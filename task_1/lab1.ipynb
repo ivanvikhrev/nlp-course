{
 "cells": [
  {
   "cell_type": "markdown",
   "metadata": {
    "id": "qJgfT4hq2lDG"
   },
   "source": [
    "# UNN NLP 2021 1st Lab\n",
    "\n",
    "We have 60,000 Stack Overflow questions from 2016-2020 and classified them into three categories:\n",
    "\n",
    "  - HQ (target = 0): High-quality posts with 30+ score and without a single edit.\n",
    "  - LQ_CLOSE (target =1): Low-quality posts that were closed by the community without a single edit.\n",
    "  - LQ_EDIT (target =2): Low-quality posts with a negative score and with multiple community edits. However, they still remain open after the edits.\n",
    "\n",
    "### Data columns\n",
    "  - Body - The question' body in HTML format.\n",
    "  - Tags - The question' tags (up to 5 tags per question)\n",
    "  - Title - The question' title bruh…\n",
    "  - Id - The question' unique identificator"
   ]
  },
  {
   "cell_type": "code",
   "execution_count": 1,
   "metadata": {
    "colab": {
     "base_uri": "https://localhost:8080/"
    },
    "id": "zpeXrkaC8_9F",
    "outputId": "0dfd58eb-441e-4d3c-99ed-8f73381c96a3"
   },
   "outputs": [
    {
     "name": "stdout",
     "output_type": "stream",
     "text": [
      "Mounted at /content/gdrive/\n"
     ]
    }
   ],
   "source": [
    "from google.colab import drive\n",
    "drive.mount('/content/gdrive/', force_remount=True)"
   ]
  },
  {
   "cell_type": "code",
   "execution_count": 2,
   "metadata": {
    "colab": {
     "base_uri": "https://localhost:8080/"
    },
    "id": "67e6iEvr0sKv",
    "outputId": "160f3465-8829-4b1e-b739-ad3dc4a7f9b1"
   },
   "outputs": [
    {
     "name": "stdout",
     "output_type": "stream",
     "text": [
      "/content/gdrive/My Drive/NLP_1_lab\n"
     ]
    }
   ],
   "source": [
    "%cd '/content/gdrive/My Drive/NLP_1_lab/'"
   ]
  },
  {
   "cell_type": "code",
   "execution_count": 3,
   "metadata": {
    "colab": {
     "base_uri": "https://localhost:8080/"
    },
    "id": "sl-JQx7O0y6m",
    "outputId": "07edfe09-de0d-428e-8c73-719166313b5b"
   },
   "outputs": [
    {
     "name": "stdout",
     "output_type": "stream",
     "text": [
      "[nltk_data] Downloading package stopwords to /root/nltk_data...\n",
      "[nltk_data]   Package stopwords is already up-to-date!\n"
     ]
    }
   ],
   "source": [
    "from IPython.display import display_html \n",
    "import numpy as np\n",
    "import pandas as pd\n",
    "import re\n",
    "\n",
    "import seaborn as sns\n",
    "import matplotlib.pyplot as plt\n",
    "from scipy.sparse import hstack\n",
    "\n",
    "import nltk\n",
    "nltk.download('stopwords')\n",
    "from nltk.corpus import stopwords\n",
    "\n",
    "from sklearn.preprocessing import MinMaxScaler\n",
    "from sklearn.feature_extraction.text import CountVectorizer, TfidfVectorizer\n",
    "from sklearn.linear_model import LogisticRegression, RidgeClassifier\n",
    "from sklearn.svm import LinearSVC\n",
    "from sklearn.metrics import accuracy_score, classification_report, confusion_matrix, f1_score\n",
    "\n",
    "from sklearn.model_selection import train_test_split\n",
    "\n",
    "from wordcloud import WordCloud"
   ]
  },
  {
   "cell_type": "code",
   "execution_count": 4,
   "metadata": {
    "colab": {
     "base_uri": "https://localhost:8080/"
    },
    "id": "afbmRWzC2RGT",
    "outputId": "6df2272f-4e5c-4ae9-d711-5e1df91c9006"
   },
   "outputs": [
    {
     "name": "stdout",
     "output_type": "stream",
     "text": [
      "<class 'pandas.core.frame.DataFrame'>\n",
      "Int64Index: 48000 entries, 34862324 to 40415937\n",
      "Data columns (total 4 columns):\n",
      " #   Column  Non-Null Count  Dtype \n",
      "---  ------  --------------  ----- \n",
      " 0   Body    48000 non-null  object\n",
      " 1   Tags    48000 non-null  object\n",
      " 2   Title   48000 non-null  object\n",
      " 3   target  48000 non-null  int64 \n",
      "dtypes: int64(1), object(3)\n",
      "memory usage: 1.8+ MB\n"
     ]
    }
   ],
   "source": [
    "raw_train_data = pd.read_parquet(\"train.parquet\")\n",
    "raw_test_data = pd.read_parquet(\"test.parquet\")\n",
    "raw_train_data.info()"
   ]
  },
  {
   "cell_type": "code",
   "execution_count": 5,
   "metadata": {
    "colab": {
     "base_uri": "https://localhost:8080/",
     "height": 238
    },
    "id": "z53oy9n12dXv",
    "outputId": "3b7e6b4b-5bb7-4e6b-f889-48fab2421f79"
   },
   "outputs": [
    {
     "data": {
      "text/html": [
       "<div>\n",
       "<style scoped>\n",
       "    .dataframe tbody tr th:only-of-type {\n",
       "        vertical-align: middle;\n",
       "    }\n",
       "\n",
       "    .dataframe tbody tr th {\n",
       "        vertical-align: top;\n",
       "    }\n",
       "\n",
       "    .dataframe thead th {\n",
       "        text-align: right;\n",
       "    }\n",
       "</style>\n",
       "<table border=\"1\" class=\"dataframe\">\n",
       "  <thead>\n",
       "    <tr style=\"text-align: right;\">\n",
       "      <th></th>\n",
       "      <th>Body</th>\n",
       "      <th>Tags</th>\n",
       "      <th>Title</th>\n",
       "      <th>target</th>\n",
       "    </tr>\n",
       "    <tr>\n",
       "      <th>Id</th>\n",
       "      <th></th>\n",
       "      <th></th>\n",
       "      <th></th>\n",
       "      <th></th>\n",
       "    </tr>\n",
       "  </thead>\n",
       "  <tbody>\n",
       "    <tr>\n",
       "      <th>34862324</th>\n",
       "      <td>Algorithmm:\\r\\n\\r\\n**input :** Graph G\\r\\n\\r\\n...</td>\n",
       "      <td>&lt;java&gt;&lt;algorithm&gt;&lt;graph-algorithm&gt;</td>\n",
       "      <td>I am implementing a Minimum Spanning Forrest a...</td>\n",
       "      <td>2</td>\n",
       "    </tr>\n",
       "    <tr>\n",
       "      <th>47303682</th>\n",
       "      <td>While converting the data frame to HTML, Date ...</td>\n",
       "      <td>&lt;html&gt;&lt;r&gt;&lt;dataframe&gt;</td>\n",
       "      <td>R Studio: Date is getting converted to number,...</td>\n",
       "      <td>2</td>\n",
       "    </tr>\n",
       "    <tr>\n",
       "      <th>46431243</th>\n",
       "      <td>&lt;p&gt;This should be an easy one, but somehow I c...</td>\n",
       "      <td>&lt;python&gt;&lt;pandas&gt;&lt;dataframe&gt;&lt;pandas-groupby&gt;</td>\n",
       "      <td>Pandas - dataframe groupby - how to get sum of...</td>\n",
       "      <td>0</td>\n",
       "    </tr>\n",
       "    <tr>\n",
       "      <th>45306324</th>\n",
       "      <td>&lt;p&gt;Let say I have a component in Angular 2 tha...</td>\n",
       "      <td>&lt;angular&gt;&lt;typescript&gt;&lt;rxjs&gt;</td>\n",
       "      <td>Casting results from Observable.forkJoin to th...</td>\n",
       "      <td>0</td>\n",
       "    </tr>\n",
       "    <tr>\n",
       "      <th>49479547</th>\n",
       "      <td>&lt;p&gt;I'm setting a var using \\n&lt;code&gt;set TEST_VA...</td>\n",
       "      <td>&lt;c&gt;&lt;windows&gt;&lt;batch-file&gt;</td>\n",
       "      <td>Environment variable set in batch file cannot ...</td>\n",
       "      <td>1</td>\n",
       "    </tr>\n",
       "  </tbody>\n",
       "</table>\n",
       "</div>"
      ],
      "text/plain": [
       "                                                       Body  ... target\n",
       "Id                                                           ...       \n",
       "34862324  Algorithmm:\\r\\n\\r\\n**input :** Graph G\\r\\n\\r\\n...  ...      2\n",
       "47303682  While converting the data frame to HTML, Date ...  ...      2\n",
       "46431243  <p>This should be an easy one, but somehow I c...  ...      0\n",
       "45306324  <p>Let say I have a component in Angular 2 tha...  ...      0\n",
       "49479547  <p>I'm setting a var using \\n<code>set TEST_VA...  ...      1\n",
       "\n",
       "[5 rows x 4 columns]"
      ]
     },
     "execution_count": 5,
     "metadata": {},
     "output_type": "execute_result"
    }
   ],
   "source": [
    "raw_train_data.head()"
   ]
  },
  {
   "cell_type": "code",
   "execution_count": 6,
   "metadata": {
    "colab": {
     "base_uri": "https://localhost:8080/",
     "height": 238
    },
    "id": "vYHSuFsQxxtu",
    "outputId": "66a55df8-dfaf-431e-f69f-32afe0642238"
   },
   "outputs": [
    {
     "data": {
      "text/html": [
       "<div>\n",
       "<style scoped>\n",
       "    .dataframe tbody tr th:only-of-type {\n",
       "        vertical-align: middle;\n",
       "    }\n",
       "\n",
       "    .dataframe tbody tr th {\n",
       "        vertical-align: top;\n",
       "    }\n",
       "\n",
       "    .dataframe thead th {\n",
       "        text-align: right;\n",
       "    }\n",
       "</style>\n",
       "<table border=\"1\" class=\"dataframe\">\n",
       "  <thead>\n",
       "    <tr style=\"text-align: right;\">\n",
       "      <th></th>\n",
       "      <th>Body</th>\n",
       "      <th>Tags</th>\n",
       "      <th>Title</th>\n",
       "    </tr>\n",
       "    <tr>\n",
       "      <th>Id</th>\n",
       "      <th></th>\n",
       "      <th></th>\n",
       "      <th></th>\n",
       "    </tr>\n",
       "  </thead>\n",
       "  <tbody>\n",
       "    <tr>\n",
       "      <th>46785369</th>\n",
       "      <td>I was given a decision tree with sample data i...</td>\n",
       "      <td>&lt;math&gt;&lt;machine-learning&gt;&lt;artificial-intelligen...</td>\n",
       "      <td>Desecion trees ended up with same given tree a...</td>\n",
       "    </tr>\n",
       "    <tr>\n",
       "      <th>38908667</th>\n",
       "      <td>&lt;p&gt;I am moving a test application over to Xcod...</td>\n",
       "      <td>&lt;ios&gt;&lt;swift&gt;&lt;swift3&gt;&lt;xcode8&gt;&lt;nserror&gt;</td>\n",
       "      <td>Value of type 'Error' has no member 'code'</td>\n",
       "    </tr>\n",
       "    <tr>\n",
       "      <th>44703012</th>\n",
       "      <td>&lt;p&gt;I would like to be able to perform linting ...</td>\n",
       "      <td>&lt;jenkins&gt;&lt;jenkins-pipeline&gt;</td>\n",
       "      <td>How do I lint Jenkins pipelines from the comma...</td>\n",
       "    </tr>\n",
       "    <tr>\n",
       "      <th>34910435</th>\n",
       "      <td>&lt;p&gt;I’m using &lt;a href=\"https://github.com/ftlab...</td>\n",
       "      <td>&lt;javascript&gt;&lt;css&gt;&lt;mobile-safari&gt;&lt;fastclick.js&gt;...</td>\n",
       "      <td>Is there a way to prevent fastclick from firin...</td>\n",
       "    </tr>\n",
       "    <tr>\n",
       "      <th>51632121</th>\n",
       "      <td>I have some 5 Test cases and I want them to ke...</td>\n",
       "      <td>&lt;android&gt;&lt;testing&gt;&lt;appium&gt;&lt;katalon-studio&gt;</td>\n",
       "      <td>How to loop test cases in katalon Studio?</td>\n",
       "    </tr>\n",
       "  </tbody>\n",
       "</table>\n",
       "</div>"
      ],
      "text/plain": [
       "                                                       Body  ...                                              Title\n",
       "Id                                                           ...                                                   \n",
       "46785369  I was given a decision tree with sample data i...  ...  Desecion trees ended up with same given tree a...\n",
       "38908667  <p>I am moving a test application over to Xcod...  ...         Value of type 'Error' has no member 'code'\n",
       "44703012  <p>I would like to be able to perform linting ...  ...  How do I lint Jenkins pipelines from the comma...\n",
       "34910435  <p>I’m using <a href=\"https://github.com/ftlab...  ...  Is there a way to prevent fastclick from firin...\n",
       "51632121  I have some 5 Test cases and I want them to ke...  ...          How to loop test cases in katalon Studio?\n",
       "\n",
       "[5 rows x 3 columns]"
      ]
     },
     "execution_count": 6,
     "metadata": {},
     "output_type": "execute_result"
    }
   ],
   "source": [
    "raw_test_data.head()"
   ]
  },
  {
   "cell_type": "markdown",
   "metadata": {
    "id": "6bQDVRRk4N7E"
   },
   "source": [
    "# EDA and preprocessing"
   ]
  },
  {
   "cell_type": "code",
   "execution_count": 7,
   "metadata": {
    "id": "gAL9VpfI4YgS"
   },
   "outputs": [],
   "source": [
    "sns.set(style = 'white', rc={'figure.figsize':(12, 8)})"
   ]
  },
  {
   "cell_type": "markdown",
   "metadata": {
    "id": "39fwdj4c84Hz"
   },
   "source": [
    "### Посмотрим на распределение классов:"
   ]
  },
  {
   "cell_type": "code",
   "execution_count": 8,
   "metadata": {
    "colab": {
     "base_uri": "https://localhost:8080/",
     "height": 524
    },
    "id": "yThdMFkS4ru1",
    "outputId": "35c19a8e-98fd-4e12-d8a3-5e038d074142"
   },
   "outputs": [
    {
     "data": {
      "image/png": "[encoded data removed]",
      "text/plain": [
       "<Figure size 864x576 with 1 Axes>"
      ]
     },
     "metadata": {},
     "output_type": "display_data"
    }
   ],
   "source": [
    "labels = {0:'HQ', 1:'LQ_CLOSE', 2:'LQ_EDIT'}\n",
    "ax = sns.countplot(x='target', data=raw_train_data, palette ='rocket')\n",
    "ax.set_title('Class distribution', fontsize=20)\n",
    "ax.set_xticklabels(list(labels.values()))\n",
    "for p in ax.patches:\n",
    "    ax.annotate(f'{p.get_height()}', (p.get_x() + 0.25, p.get_height() // 2), color='white', size=18)\n",
    "plt.show()\n",
    "pass"
   ]
  },
  {
   "cell_type": "markdown",
   "metadata": {
    "id": "bVM9zuse9AoU"
   },
   "source": [
    "Классы сбалансированны.\n",
    "\n"
   ]
  },
  {
   "cell_type": "markdown",
   "metadata": {
    "id": "uB6LJl5ZGRdt"
   },
   "source": [
    "## Tags processing"
   ]
  },
  {
   "cell_type": "code",
   "execution_count": 9,
   "metadata": {
    "id": "WcDDMtXy4xU1"
   },
   "outputs": [],
   "source": [
    "raw_train_data['Tags'] = raw_train_data['Tags'].str.replace('>',' ')\n",
    "raw_train_data['Tags'] = raw_train_data['Tags'].str.replace('<','')\n",
    "raw_train_data['Tags'] = raw_train_data['Tags'].str.split()"
   ]
  },
  {
   "cell_type": "code",
   "execution_count": 10,
   "metadata": {
    "colab": {
     "base_uri": "https://localhost:8080/",
     "height": 455
    },
    "id": "022I0u4wyq1o",
    "outputId": "96478286-9861-418b-a4f3-21ba95dbe4b4"
   },
   "outputs": [
    {
     "data": {
      "text/html": [
       "<div>\n",
       "<style scoped>\n",
       "    .dataframe tbody tr th:only-of-type {\n",
       "        vertical-align: middle;\n",
       "    }\n",
       "\n",
       "    .dataframe tbody tr th {\n",
       "        vertical-align: top;\n",
       "    }\n",
       "\n",
       "    .dataframe thead th {\n",
       "        text-align: right;\n",
       "    }\n",
       "</style>\n",
       "<table border=\"1\" class=\"dataframe\">\n",
       "  <thead>\n",
       "    <tr style=\"text-align: right;\">\n",
       "      <th></th>\n",
       "      <th>Tags</th>\n",
       "    </tr>\n",
       "    <tr>\n",
       "      <th>Id</th>\n",
       "      <th></th>\n",
       "    </tr>\n",
       "  </thead>\n",
       "  <tbody>\n",
       "    <tr>\n",
       "      <th>34862324</th>\n",
       "      <td>[java, algorithm, graph-algorithm]</td>\n",
       "    </tr>\n",
       "    <tr>\n",
       "      <th>47303682</th>\n",
       "      <td>[html, r, dataframe]</td>\n",
       "    </tr>\n",
       "    <tr>\n",
       "      <th>46431243</th>\n",
       "      <td>[python, pandas, dataframe, pandas-groupby]</td>\n",
       "    </tr>\n",
       "    <tr>\n",
       "      <th>45306324</th>\n",
       "      <td>[angular, typescript, rxjs]</td>\n",
       "    </tr>\n",
       "    <tr>\n",
       "      <th>49479547</th>\n",
       "      <td>[c, windows, batch-file]</td>\n",
       "    </tr>\n",
       "    <tr>\n",
       "      <th>...</th>\n",
       "      <td>...</td>\n",
       "    </tr>\n",
       "    <tr>\n",
       "      <th>35488105</th>\n",
       "      <td>[c#, asp.net, datetime, textbox]</td>\n",
       "    </tr>\n",
       "    <tr>\n",
       "      <th>37045803</th>\n",
       "      <td>[c#, image, detection]</td>\n",
       "    </tr>\n",
       "    <tr>\n",
       "      <th>43601747</th>\n",
       "      <td>[java, apache-kafka, kafka-producer-api]</td>\n",
       "    </tr>\n",
       "    <tr>\n",
       "      <th>40505904</th>\n",
       "      <td>[github]</td>\n",
       "    </tr>\n",
       "    <tr>\n",
       "      <th>40415937</th>\n",
       "      <td>[ios, objective-c, uitableview]</td>\n",
       "    </tr>\n",
       "  </tbody>\n",
       "</table>\n",
       "<p>48000 rows × 1 columns</p>\n",
       "</div>"
      ],
      "text/plain": [
       "                                                 Tags\n",
       "Id                                                   \n",
       "34862324           [java, algorithm, graph-algorithm]\n",
       "47303682                         [html, r, dataframe]\n",
       "46431243  [python, pandas, dataframe, pandas-groupby]\n",
       "45306324                  [angular, typescript, rxjs]\n",
       "49479547                     [c, windows, batch-file]\n",
       "...                                               ...\n",
       "35488105             [c#, asp.net, datetime, textbox]\n",
       "37045803                       [c#, image, detection]\n",
       "43601747     [java, apache-kafka, kafka-producer-api]\n",
       "40505904                                     [github]\n",
       "40415937              [ios, objective-c, uitableview]\n",
       "\n",
       "[48000 rows x 1 columns]"
      ]
     },
     "execution_count": 10,
     "metadata": {},
     "output_type": "execute_result"
    }
   ],
   "source": [
    "raw_train_data[['Tags']]"
   ]
  },
  {
   "cell_type": "code",
   "execution_count": 11,
   "metadata": {
    "id": "rF3llFDkpjJl"
   },
   "outputs": [],
   "source": [
    "raw_test_data['Tags'] = raw_test_data['Tags'].str.replace('>',' ')\n",
    "raw_test_data['Tags'] = raw_test_data['Tags'].str.replace('<','')\n",
    "raw_test_data['Tags'] = raw_test_data['Tags'].str.split()"
   ]
  },
  {
   "cell_type": "markdown",
   "metadata": {
    "id": "rPKhhiowMfaH"
   },
   "source": [
    "Всего уникальных тегов:"
   ]
  },
  {
   "cell_type": "code",
   "execution_count": 12,
   "metadata": {
    "colab": {
     "base_uri": "https://localhost:8080/"
    },
    "id": "-doyq2_lGkn7",
    "outputId": "82a7e168-bc7b-4790-9612-7b628180ffb5"
   },
   "outputs": [
    {
     "data": {
      "text/plain": [
       "9619"
      ]
     },
     "execution_count": 12,
     "metadata": {},
     "output_type": "execute_result"
    }
   ],
   "source": [
    "len(raw_train_data['Tags'].explode().unique())"
   ]
  },
  {
   "cell_type": "markdown",
   "metadata": {
    "id": "Pv4CaOpKM2Nj"
   },
   "source": [
    "ТОП самых используемых тегов:"
   ]
  },
  {
   "cell_type": "code",
   "execution_count": 13,
   "metadata": {
    "colab": {
     "base_uri": "https://localhost:8080/",
     "height": 678
    },
    "id": "n3QHdoDiMqc_",
    "outputId": "78ca1145-2986-4572-cde3-32a50b8dac25"
   },
   "outputs": [
    {
     "data": {
      "text/plain": [
       "javascript    5638\n",
       "python        5480\n",
       "java          5031\n",
       "android       3880\n",
       "php           3355\n",
       "c#            3347\n",
       "html          2694\n",
       "c++           2387\n",
       "css           1692\n",
       "arrays        1468\n",
       "Name: Tags, dtype: int64"
      ]
     },
     "metadata": {},
     "output_type": "display_data"
    },
    {
     "data": {
      "image/png": "[encoded data removed]",
      "text/plain": [
       "<Figure size 864x576 with 1 Axes>"
      ]
     },
     "metadata": {},
     "output_type": "display_data"
    }
   ],
   "source": [
    "display(raw_train_data['Tags'].explode().value_counts()[:10])\n",
    "wcloud = WordCloud(background_color = 'white', collocations=False, width = 2000, \\\n",
    "                   height = 2000, colormap = \"rocket_r\", max_words=20).generate_from_frequencies(raw_train_data['Tags'].explode().value_counts(), )\n",
    "plt.axis('off')\n",
    "plt.title('Top-20 tags',fontsize = 20)\n",
    "plt.imshow(wcloud)\n",
    "pass"
   ]
  },
  {
   "cell_type": "markdown",
   "metadata": {
    "id": "SFYsNt3ZSzUo"
   },
   "source": [
    "Самые популярные теги по категориям:"
   ]
  },
  {
   "cell_type": "code",
   "execution_count": 14,
   "metadata": {
    "id": "C025oLO7R0g-"
   },
   "outputs": [],
   "source": [
    "explode_tags = raw_train_data.explode('Tags')\n",
    "most_freq_tag_by_cat = explode_tags.groupby('target')['Tags'].apply(lambda x: x.value_counts()).reset_index()"
   ]
  },
  {
   "cell_type": "code",
   "execution_count": 15,
   "metadata": {
    "colab": {
     "base_uri": "https://localhost:8080/",
     "height": 165
    },
    "id": "p2IUj6vx0ZII",
    "outputId": "785f2f53-b5d7-4020-9691-3ca9a340b43e"
   },
   "outputs": [
    {
     "data": {
      "text/html": [
       "<style  type=\"text/css\" >\n",
       "</style><table id=\"T_0151c492_53ba_11ec_90cd_0242ac1c0002\" style='display:inline'><caption>HQ</caption><thead>    <tr>        <th class=\"blank level0\" ></th>        <th class=\"col_heading level0 col0\" >level_1</th>        <th class=\"col_heading level0 col1\" >Tags</th>    </tr></thead><tbody>\n",
       "                <tr>\n",
       "                        <th id=\"T_0151c492_53ba_11ec_90cd_0242ac1c0002level0_row0\" class=\"row_heading level0 row0\" >0</th>\n",
       "                        <td id=\"T_0151c492_53ba_11ec_90cd_0242ac1c0002row0_col0\" class=\"data row0 col0\" >python</td>\n",
       "                        <td id=\"T_0151c492_53ba_11ec_90cd_0242ac1c0002row0_col1\" class=\"data row0 col1\" >1596</td>\n",
       "            </tr>\n",
       "            <tr>\n",
       "                        <th id=\"T_0151c492_53ba_11ec_90cd_0242ac1c0002level0_row1\" class=\"row_heading level0 row1\" >1</th>\n",
       "                        <td id=\"T_0151c492_53ba_11ec_90cd_0242ac1c0002row1_col0\" class=\"data row1 col0\" >javascript</td>\n",
       "                        <td id=\"T_0151c492_53ba_11ec_90cd_0242ac1c0002row1_col1\" class=\"data row1 col1\" >1540</td>\n",
       "            </tr>\n",
       "            <tr>\n",
       "                        <th id=\"T_0151c492_53ba_11ec_90cd_0242ac1c0002level0_row2\" class=\"row_heading level0 row2\" >2</th>\n",
       "                        <td id=\"T_0151c492_53ba_11ec_90cd_0242ac1c0002row2_col0\" class=\"data row2 col0\" >android</td>\n",
       "                        <td id=\"T_0151c492_53ba_11ec_90cd_0242ac1c0002row2_col1\" class=\"data row2 col1\" >1368</td>\n",
       "            </tr>\n",
       "            <tr>\n",
       "                        <th id=\"T_0151c492_53ba_11ec_90cd_0242ac1c0002level0_row3\" class=\"row_heading level0 row3\" >3</th>\n",
       "                        <td id=\"T_0151c492_53ba_11ec_90cd_0242ac1c0002row3_col0\" class=\"data row3 col0\" >angular</td>\n",
       "                        <td id=\"T_0151c492_53ba_11ec_90cd_0242ac1c0002row3_col1\" class=\"data row3 col1\" >913</td>\n",
       "            </tr>\n",
       "            <tr>\n",
       "                        <th id=\"T_0151c492_53ba_11ec_90cd_0242ac1c0002level0_row4\" class=\"row_heading level0 row4\" >4</th>\n",
       "                        <td id=\"T_0151c492_53ba_11ec_90cd_0242ac1c0002row4_col0\" class=\"data row4 col0\" >java</td>\n",
       "                        <td id=\"T_0151c492_53ba_11ec_90cd_0242ac1c0002row4_col1\" class=\"data row4 col1\" >849</td>\n",
       "            </tr>\n",
       "    </tbody></table>          <style  type=\"text/css\" >\n",
       "</style><table id=\"T_0152338c_53ba_11ec_90cd_0242ac1c0002\" style='display:inline'><caption>LQ_CLOSE</caption><thead>    <tr>        <th class=\"blank level0\" ></th>        <th class=\"col_heading level0 col0\" >level_1</th>        <th class=\"col_heading level0 col1\" >Tags</th>    </tr></thead><tbody>\n",
       "                <tr>\n",
       "                        <th id=\"T_0152338c_53ba_11ec_90cd_0242ac1c0002level0_row0\" class=\"row_heading level0 row0\" >6231</th>\n",
       "                        <td id=\"T_0152338c_53ba_11ec_90cd_0242ac1c0002row0_col0\" class=\"data row0 col0\" >javascript</td>\n",
       "                        <td id=\"T_0152338c_53ba_11ec_90cd_0242ac1c0002row0_col1\" class=\"data row0 col1\" >2349</td>\n",
       "            </tr>\n",
       "            <tr>\n",
       "                        <th id=\"T_0152338c_53ba_11ec_90cd_0242ac1c0002level0_row1\" class=\"row_heading level0 row1\" >6232</th>\n",
       "                        <td id=\"T_0152338c_53ba_11ec_90cd_0242ac1c0002row1_col0\" class=\"data row1 col0\" >java</td>\n",
       "                        <td id=\"T_0152338c_53ba_11ec_90cd_0242ac1c0002row1_col1\" class=\"data row1 col1\" >2252</td>\n",
       "            </tr>\n",
       "            <tr>\n",
       "                        <th id=\"T_0152338c_53ba_11ec_90cd_0242ac1c0002level0_row2\" class=\"row_heading level0 row2\" >6233</th>\n",
       "                        <td id=\"T_0152338c_53ba_11ec_90cd_0242ac1c0002row2_col0\" class=\"data row2 col0\" >python</td>\n",
       "                        <td id=\"T_0152338c_53ba_11ec_90cd_0242ac1c0002row2_col1\" class=\"data row2 col1\" >2082</td>\n",
       "            </tr>\n",
       "            <tr>\n",
       "                        <th id=\"T_0152338c_53ba_11ec_90cd_0242ac1c0002level0_row3\" class=\"row_heading level0 row3\" >6234</th>\n",
       "                        <td id=\"T_0152338c_53ba_11ec_90cd_0242ac1c0002row3_col0\" class=\"data row3 col0\" >php</td>\n",
       "                        <td id=\"T_0152338c_53ba_11ec_90cd_0242ac1c0002row3_col1\" class=\"data row3 col1\" >1815</td>\n",
       "            </tr>\n",
       "            <tr>\n",
       "                        <th id=\"T_0152338c_53ba_11ec_90cd_0242ac1c0002level0_row4\" class=\"row_heading level0 row4\" >6235</th>\n",
       "                        <td id=\"T_0152338c_53ba_11ec_90cd_0242ac1c0002row4_col0\" class=\"data row4 col0\" >c#</td>\n",
       "                        <td id=\"T_0152338c_53ba_11ec_90cd_0242ac1c0002row4_col1\" class=\"data row4 col1\" >1455</td>\n",
       "            </tr>\n",
       "    </tbody></table>          <style  type=\"text/css\" >\n",
       "</style><table id=\"T_01528a4e_53ba_11ec_90cd_0242ac1c0002\" style='display:inline'><caption>LQ_EDIT</caption><thead>    <tr>        <th class=\"blank level0\" ></th>        <th class=\"col_heading level0 col0\" >level_1</th>        <th class=\"col_heading level0 col1\" >Tags</th>    </tr></thead><tbody>\n",
       "                <tr>\n",
       "                        <th id=\"T_01528a4e_53ba_11ec_90cd_0242ac1c0002level0_row0\" class=\"row_heading level0 row0\" >10257</th>\n",
       "                        <td id=\"T_01528a4e_53ba_11ec_90cd_0242ac1c0002row0_col0\" class=\"data row0 col0\" >java</td>\n",
       "                        <td id=\"T_01528a4e_53ba_11ec_90cd_0242ac1c0002row0_col1\" class=\"data row0 col1\" >1930</td>\n",
       "            </tr>\n",
       "            <tr>\n",
       "                        <th id=\"T_01528a4e_53ba_11ec_90cd_0242ac1c0002level0_row1\" class=\"row_heading level0 row1\" >10258</th>\n",
       "                        <td id=\"T_01528a4e_53ba_11ec_90cd_0242ac1c0002row1_col0\" class=\"data row1 col0\" >python</td>\n",
       "                        <td id=\"T_01528a4e_53ba_11ec_90cd_0242ac1c0002row1_col1\" class=\"data row1 col1\" >1802</td>\n",
       "            </tr>\n",
       "            <tr>\n",
       "                        <th id=\"T_01528a4e_53ba_11ec_90cd_0242ac1c0002level0_row2\" class=\"row_heading level0 row2\" >10259</th>\n",
       "                        <td id=\"T_01528a4e_53ba_11ec_90cd_0242ac1c0002row2_col0\" class=\"data row2 col0\" >javascript</td>\n",
       "                        <td id=\"T_01528a4e_53ba_11ec_90cd_0242ac1c0002row2_col1\" class=\"data row2 col1\" >1749</td>\n",
       "            </tr>\n",
       "            <tr>\n",
       "                        <th id=\"T_01528a4e_53ba_11ec_90cd_0242ac1c0002level0_row3\" class=\"row_heading level0 row3\" >10260</th>\n",
       "                        <td id=\"T_01528a4e_53ba_11ec_90cd_0242ac1c0002row3_col0\" class=\"data row3 col0\" >android</td>\n",
       "                        <td id=\"T_01528a4e_53ba_11ec_90cd_0242ac1c0002row3_col1\" class=\"data row3 col1\" >1546</td>\n",
       "            </tr>\n",
       "            <tr>\n",
       "                        <th id=\"T_01528a4e_53ba_11ec_90cd_0242ac1c0002level0_row4\" class=\"row_heading level0 row4\" >10261</th>\n",
       "                        <td id=\"T_01528a4e_53ba_11ec_90cd_0242ac1c0002row4_col0\" class=\"data row4 col0\" >c#</td>\n",
       "                        <td id=\"T_01528a4e_53ba_11ec_90cd_0242ac1c0002row4_col1\" class=\"data row4 col1\" >1297</td>\n",
       "            </tr>\n",
       "    </tbody></table>"
      ]
     },
     "metadata": {},
     "output_type": "display_data"
    }
   ],
   "source": [
    "space = \"\\xa0\" * 10\n",
    "hq_tags = most_freq_tag_by_cat[most_freq_tag_by_cat['target'] == 0].drop(\"target\", axis=1).head().style.set_table_attributes(\"style='display:inline'\").set_caption('HQ')\n",
    "lq_close_tags = most_freq_tag_by_cat[most_freq_tag_by_cat['target'] == 1].drop(\"target\", axis=1).head().style.set_table_attributes(\"style='display:inline'\").set_caption('LQ_CLOSE')\n",
    "lq_edit_tags = most_freq_tag_by_cat[most_freq_tag_by_cat['target'] == 2].drop(\"target\", axis=1).head().style.set_table_attributes(\"style='display:inline'\").set_caption('LQ_EDIT')\n",
    "display_html(hq_tags._repr_html_() + space + lq_close_tags._repr_html_() + space + lq_edit_tags._repr_html_(), raw = True)"
   ]
  },
  {
   "cell_type": "markdown",
   "metadata": {
    "id": "objEMsTbUNXB"
   },
   "source": [
    "Теги для каждой категории пересекаются (пр. и python, javascript, java входят в топ 5 для всех категорий) и какого-то однозначного вывода о влиянии на принадлежность к категории сделать не получается."
   ]
  },
  {
   "cell_type": "markdown",
   "metadata": {
    "id": "87-uk_uEVY1b"
   },
   "source": [
    "## Title и Body processing"
   ]
  },
  {
   "cell_type": "markdown",
   "metadata": {
    "id": "_bRrUXlDkaw1"
   },
   "source": [
    "Посмотрим на частоту встречаемости слов в body + title + tags:\n"
   ]
  },
  {
   "cell_type": "code",
   "execution_count": 16,
   "metadata": {
    "id": "DTNe5Appmy2Y"
   },
   "outputs": [],
   "source": [
    "def top_n_words_freq(df_column, n):\n",
    "  words = {}\n",
    "  for x in df_column.str.split():\n",
    "      for w in x:\n",
    "          if w in words:\n",
    "            words[w] += 1\n",
    "          else:\n",
    "            words[w] = 1\n",
    "  top_words = sorted(words.items(), key = lambda x:x[1], reverse = True)[:n]\n",
    "  x, y = zip(*top_words)\n",
    "  return x, y"
   ]
  },
  {
   "cell_type": "code",
   "execution_count": 17,
   "metadata": {
    "colab": {
     "base_uri": "https://localhost:8080/",
     "height": 485
    },
    "id": "x4EWlQhL3vYR",
    "outputId": "d10675b2-609b-4182-e4f7-ef79b039ccff"
   },
   "outputs": [
    {
     "data": {
      "image/png": "[encoded data removed]",
      "text/plain": [
       "<Figure size 864x576 with 1 Axes>"
      ]
     },
     "metadata": {},
     "output_type": "display_data"
    }
   ],
   "source": [
    "raw_train_data['full_info'] = raw_train_data['Tags'].apply(lambda x: ' '.join(x)) + ' ' +raw_train_data['Title'] + ' ' + raw_train_data['Body']\n",
    "x, y = top_n_words_freq(raw_train_data['full_info'], 15)\n",
    "sns.barplot(x = np.array(x), y = np.array(y), palette='rocket')\n",
    "pass"
   ]
  },
  {
   "cell_type": "markdown",
   "metadata": {
    "id": "qJpQ_aqTr8wQ"
   },
   "source": [
    "Самые частые слова - stop-words, различные символы (=, !, {}) и теги форматирования. Попробовав убрать stop-words, выяснилось, что точность в итоге падает, поэтому в препроцессинге убираю только не-буквенные символы, и привожу все к сторочным буквам. \n"
   ]
  },
  {
   "cell_type": "code",
   "execution_count": 20,
   "metadata": {
    "id": "xV1Fo4L3bfcL"
   },
   "outputs": [],
   "source": [
    "def preprocess(data):\n",
    "  preproc_data = data.copy()\n",
    "  preproc_data['full_info'] = preproc_data['Tags'].apply(lambda x: ' '.join(x)) + ' ' + preproc_data['Title'] + ' ' + preproc_data['Body']\n",
    "  preproc_data.drop('Tags', axis=1, inplace=True)\n",
    "  preproc_data.drop('Title', axis=1, inplace=True)\n",
    "  preproc_data.drop('Body', axis=1, inplace=True)\n",
    "\n",
    "  # add is_format feature - to specify if text contains formatting\n",
    "  preproc_data['is_format'] = preproc_data['full_info'].str.contains(r'<[^>]*>').astype(int)\n",
    "  # preproc_data['full_info'] = preproc_data['full_info'].str.replace(r'<[^>]*>', ' ')\n",
    "  # clean all trash words and symbols\n",
    "  #preproc_data['full_info'] = preproc_data['full_info'].str.replace(r'\\n', ' ')\n",
    "  #preproc_data['full_info'] = preproc_data['full_info'].str.replace(r'\\r', ' ')\n",
    "  # replace shorts\n",
    "  # preproc_data['full_info'] = preproc_data['full_info'].str.replace(r'n\\'t', ' not')\n",
    "  # preproc_data['full_info'] = preproc_data['full_info'].str.replace(r'\\’ve', ' have')\n",
    "  # preproc_data['full_info'] = preproc_data['full_info'].str.replace(r'\\’m', ' am')\n",
    "  # preproc_data['full_info'] = preproc_data['full_info'].str.replace(r'\\’s', ' is')\n",
    "  # remove symbols except a-zA-z and spaces\n",
    "  preproc_data['full_info'] = preproc_data['full_info'].apply(lambda x: re.sub(r'[^a-zA-Z\\s]', ' ',str(x)))\n",
    "  # to lower case\n",
    "  preproc_data['full_info'] = preproc_data['full_info'].apply(lambda x: x.lower())\n",
    "  # remove all extra spaces\n",
    "  preproc_data['full_info'] = preproc_data['full_info'].apply(lambda x: ' '.join(x.split()))\n",
    "  # remove stop words\n",
    "  # stop = list(stopwords.words(\"english\"))\n",
    "  # preproc_data['full_info'] = preproc_data['full_info'].apply(lambda x: ' '.join([word for word in x.split() if word not in (stop)]))\n",
    "  \n",
    "\n",
    "  return preproc_data"
   ]
  },
  {
   "cell_type": "code",
   "execution_count": 21,
   "metadata": {
    "id": "O5qUCiW3vehm"
   },
   "outputs": [],
   "source": [
    "preproc_train_data = preprocess(raw_train_data)\n",
    "preproc_test_data = preprocess(raw_test_data)"
   ]
  },
  {
   "cell_type": "code",
   "execution_count": 22,
   "metadata": {
    "colab": {
     "base_uri": "https://localhost:8080/",
     "height": 455
    },
    "id": "WfAX02Az9_1-",
    "outputId": "b71f3e28-c4d3-476f-82ce-ea579b6079fc"
   },
   "outputs": [
    {
     "data": {
      "text/html": [
       "<div>\n",
       "<style scoped>\n",
       "    .dataframe tbody tr th:only-of-type {\n",
       "        vertical-align: middle;\n",
       "    }\n",
       "\n",
       "    .dataframe tbody tr th {\n",
       "        vertical-align: top;\n",
       "    }\n",
       "\n",
       "    .dataframe thead th {\n",
       "        text-align: right;\n",
       "    }\n",
       "</style>\n",
       "<table border=\"1\" class=\"dataframe\">\n",
       "  <thead>\n",
       "    <tr style=\"text-align: right;\">\n",
       "      <th></th>\n",
       "      <th>target</th>\n",
       "      <th>full_info</th>\n",
       "      <th>is_format</th>\n",
       "    </tr>\n",
       "    <tr>\n",
       "      <th>Id</th>\n",
       "      <th></th>\n",
       "      <th></th>\n",
       "      <th></th>\n",
       "    </tr>\n",
       "  </thead>\n",
       "  <tbody>\n",
       "    <tr>\n",
       "      <th>34862324</th>\n",
       "      <td>2</td>\n",
       "      <td>java algorithm graph algorithm i am implementi...</td>\n",
       "      <td>0</td>\n",
       "    </tr>\n",
       "    <tr>\n",
       "      <th>47303682</th>\n",
       "      <td>2</td>\n",
       "      <td>html r dataframe r studio date is getting conv...</td>\n",
       "      <td>0</td>\n",
       "    </tr>\n",
       "    <tr>\n",
       "      <th>46431243</th>\n",
       "      <td>0</td>\n",
       "      <td>python pandas dataframe pandas groupby pandas ...</td>\n",
       "      <td>1</td>\n",
       "    </tr>\n",
       "    <tr>\n",
       "      <th>45306324</th>\n",
       "      <td>0</td>\n",
       "      <td>angular typescript rxjs casting results from o...</td>\n",
       "      <td>1</td>\n",
       "    </tr>\n",
       "    <tr>\n",
       "      <th>49479547</th>\n",
       "      <td>1</td>\n",
       "      <td>c windows batch file environment variable set ...</td>\n",
       "      <td>1</td>\n",
       "    </tr>\n",
       "    <tr>\n",
       "      <th>...</th>\n",
       "      <td>...</td>\n",
       "      <td>...</td>\n",
       "      <td>...</td>\n",
       "    </tr>\n",
       "    <tr>\n",
       "      <th>35488105</th>\n",
       "      <td>1</td>\n",
       "      <td>c asp net datetime textbox textbox user contro...</td>\n",
       "      <td>1</td>\n",
       "    </tr>\n",
       "    <tr>\n",
       "      <th>37045803</th>\n",
       "      <td>1</td>\n",
       "      <td>c image detection c do something based on imag...</td>\n",
       "      <td>1</td>\n",
       "    </tr>\n",
       "    <tr>\n",
       "      <th>43601747</th>\n",
       "      <td>0</td>\n",
       "      <td>java apache kafka kafka producer api kafkaprod...</td>\n",
       "      <td>1</td>\n",
       "    </tr>\n",
       "    <tr>\n",
       "      <th>40505904</th>\n",
       "      <td>0</td>\n",
       "      <td>github is there a way to make github un approv...</td>\n",
       "      <td>1</td>\n",
       "    </tr>\n",
       "    <tr>\n",
       "      <th>40415937</th>\n",
       "      <td>2</td>\n",
       "      <td>ios objective c uitableview how to delete more...</td>\n",
       "      <td>0</td>\n",
       "    </tr>\n",
       "  </tbody>\n",
       "</table>\n",
       "<p>48000 rows × 3 columns</p>\n",
       "</div>"
      ],
      "text/plain": [
       "          target                                          full_info  is_format\n",
       "Id                                                                            \n",
       "34862324       2  java algorithm graph algorithm i am implementi...          0\n",
       "47303682       2  html r dataframe r studio date is getting conv...          0\n",
       "46431243       0  python pandas dataframe pandas groupby pandas ...          1\n",
       "45306324       0  angular typescript rxjs casting results from o...          1\n",
       "49479547       1  c windows batch file environment variable set ...          1\n",
       "...          ...                                                ...        ...\n",
       "35488105       1  c asp net datetime textbox textbox user contro...          1\n",
       "37045803       1  c image detection c do something based on imag...          1\n",
       "43601747       0  java apache kafka kafka producer api kafkaprod...          1\n",
       "40505904       0  github is there a way to make github un approv...          1\n",
       "40415937       2  ios objective c uitableview how to delete more...          0\n",
       "\n",
       "[48000 rows x 3 columns]"
      ]
     },
     "execution_count": 22,
     "metadata": {},
     "output_type": "execute_result"
    }
   ],
   "source": [
    "preproc_train_data"
   ]
  },
  {
   "cell_type": "markdown",
   "metadata": {
    "id": "9Z8SS84i5vfc"
   },
   "source": [
    "Пример того, как изменились данные после препроцессинга:"
   ]
  },
  {
   "cell_type": "code",
   "execution_count": 23,
   "metadata": {
    "colab": {
     "base_uri": "https://localhost:8080/"
    },
    "id": "UnQ9rmwHjlS3",
    "outputId": "5d3227ac-4733-403f-823d-4c919e3dfb46"
   },
   "outputs": [
    {
     "name": "stdout",
     "output_type": "stream",
     "text": [
      "Before: \n",
      "python pandas dataframe pandas-groupby Pandas - dataframe groupby - how to get sum of multiple columns <p>This should be an easy one, but somehow I couldn't find a solution that works.</p>\n",
      "\n",
      "<p>I have a pandas dataframe which looks like this:</p>\n",
      "\n",
      "<pre><code>index col1   col2   col3   col4   col5\n",
      "0     a      c      1      2      f \n",
      "1     a      c      1      2      f\n",
      "2     a      d      1      2      f\n",
      "3     b      d      1      2      g\n",
      "4     b      e      1      2      g\n",
      "5     b      e      1      2      g\n",
      "</code></pre>\n",
      "\n",
      "<p><strong>I want to group by col1 and col2 and get the <code>sum()</code> of col3 and col4.</strong> <code>Col5</code> can be dropped, since the data can not be aggregated.</p>\n",
      "\n",
      "<p>Here is how the output should look like. I am interested in having both <code>col3</code> and <code>col4</code> in the resulting dataframe. It doesn't really matter if <code>col1</code> and <code>col2</code> are part of the index or not.</p>\n",
      "\n",
      "<pre><code>index col1   col2   col3   col4   \n",
      "0     a      c      2      4          \n",
      "1     a      d      1      2      \n",
      "2     b      d      1      2      \n",
      "3     b      e      2      4      \n",
      "</code></pre>\n",
      "\n",
      "<p>Here is what I tried:</p>\n",
      "\n",
      "<pre><code>df_new = df.groupby(['col1', 'col2'])[\"col3\", \"col4\"].sum()\n",
      "</code></pre>\n",
      "\n",
      "<p>That however only returns the aggregated results of <code>col4</code>.</p>\n",
      "\n",
      "<p>I am lost here. Every example I found only aggregates one column, where the issue obviously doesn't occur.</p>\n",
      "\n",
      "After: \n",
      "python pandas dataframe pandas groupby pandas dataframe groupby how to get sum of multiple columns p this should be an easy one but somehow i couldn t find a solution that works p p i have a pandas dataframe which looks like this p pre code index col col col col col a c f a c f a d f b d g b e g b e g code pre p strong i want to group by col and col and get the code sum code of col and col strong code col code can be dropped since the data can not be aggregated p p here is how the output should look like i am interested in having both code col code and code col code in the resulting dataframe it doesn t really matter if code col code and code col code are part of the index or not p pre code index col col col col a c a d b d b e code pre p here is what i tried p pre code df new df groupby col col col col sum code pre p that however only returns the aggregated results of code col code p p i am lost here every example i found only aggregates one column where the issue obviously doesn t occur p\n"
     ]
    }
   ],
   "source": [
    "idx = 2\n",
    "print('Before: ')\n",
    "print(raw_train_data['full_info'].values[idx])\n",
    "print('After: ')\n",
    "print(preproc_train_data['full_info'].values[idx])"
   ]
  },
  {
   "cell_type": "markdown",
   "metadata": {
    "id": "eQtDDQ-X5_9b"
   },
   "source": [
    "Смотрим на распределение слов после препроцессинга, по прежнему самые частые слова - stop-word и остатки от html тэгов (после убирания <>). Без них точность падает."
   ]
  },
  {
   "cell_type": "code",
   "execution_count": 24,
   "metadata": {
    "colab": {
     "base_uri": "https://localhost:8080/",
     "height": 485
    },
    "id": "A62aNIb9sSzE",
    "outputId": "57bec77b-f1c1-4721-8037-2d3ee0ede1ce"
   },
   "outputs": [
    {
     "data": {
      "image/png": "[encoded data removed]",
      "text/plain": [
       "<Figure size 864x576 with 1 Axes>"
      ]
     },
     "metadata": {},
     "output_type": "display_data"
    }
   ],
   "source": [
    "x, y = top_n_words_freq(preproc_train_data['full_info'], 15)\n",
    "sns.barplot(x = np.array(x), y = np.array(y), palette='rocket')\n",
    "pass"
   ]
  },
  {
   "cell_type": "markdown",
   "metadata": {
    "id": "x8PX1nIx78A-"
   },
   "source": [
    "# Деление на тренировочную и валидационную выборки"
   ]
  },
  {
   "cell_type": "code",
   "execution_count": 25,
   "metadata": {
    "colab": {
     "base_uri": "https://localhost:8080/"
    },
    "id": "YS-b_cy88AwO",
    "outputId": "eb20998d-2c01-452e-8f5c-6f2d91ff3c28"
   },
   "outputs": [
    {
     "data": {
      "text/plain": [
       "((38400, 3), (9600, 3))"
      ]
     },
     "execution_count": 25,
     "metadata": {},
     "output_type": "execute_result"
    }
   ],
   "source": [
    "train_data, val_data = train_test_split(preproc_train_data, test_size=0.2, random_state=166627, stratify=preproc_train_data['target'])\n",
    "train_data.shape, val_data.shape"
   ]
  },
  {
   "cell_type": "markdown",
   "metadata": {
    "id": "JxquT4rU6KfH"
   },
   "source": [
    "Сохраняем обработанные данные для тренировки сети в дальнейшем (бинарую фичу на наличие/ отсутствие форматирования отбросим, т.к. для нее придется адаптировать сетку, что делать не хотелось бы)"
   ]
  },
  {
   "cell_type": "code",
   "execution_count": 26,
   "metadata": {
    "id": "da88p5ZTxjaW"
   },
   "outputs": [],
   "source": [
    "train_data.drop(\"is_format\", axis=1).to_csv(\"train_data.csv\", index=False)\n",
    "val_data.drop(\"is_format\", axis=1).to_csv(\"val_data.csv\", index=False)\n",
    "preproc_test_data.drop(\"is_format\", axis=1).to_csv(\"test_data.csv\", index=False)"
   ]
  },
  {
   "cell_type": "markdown",
   "metadata": {
    "id": "Iom_DVt89poo"
   },
   "source": [
    "# Выделение target\n",
    "\n"
   ]
  },
  {
   "cell_type": "code",
   "execution_count": 27,
   "metadata": {
    "id": "mM1hbWTX9wOj"
   },
   "outputs": [],
   "source": [
    "train_target = train_data['target']\n",
    "train_data = train_data.drop(['target'], axis = 1)\n",
    "val_target = val_data['target']\n",
    "val_data = val_data.drop(['target'], axis = 1)"
   ]
  },
  {
   "cell_type": "markdown",
   "metadata": {
    "id": "GbOGyxhuuDRM"
   },
   "source": [
    "## Будем использовать следущие классические методы ML:\n",
    "\n",
    "\n",
    "1.   Логистическая регрессия\n",
    "2.   SVC\n",
    "\n"
   ]
  },
  {
   "cell_type": "code",
   "execution_count": 28,
   "metadata": {
    "id": "ZK05wj4etfJo"
   },
   "outputs": [],
   "source": [
    "def lr(train_x, train_y, class_weight='balanced'):\n",
    "  penalty = 'l2'\n",
    "  c_values = 0.01\n",
    "  lr_classifier = LogisticRegression(class_weight=class_weight, max_iter=100, penalty=penalty, C=c_values)\n",
    "  lr_classifier.fit(train_x, train_y)\n",
    "  return lr_classifier\n",
    "\n",
    "def SVC(train_x, train_y):\n",
    "  svc_classifier = LinearSVC()\n",
    "  svc_classifier.fit(train_x, train_y)\n",
    "  return svc_classifier\n",
    "\n",
    "def show_metrics(y_true, y_predict):\n",
    "  print(classification_report(y_true, y_predict, digits=4))\n",
    "  conf_mat = confusion_matrix(y_true, y_predict)\n",
    "  sns.heatmap(conf_mat / conf_mat.astype(np.float).sum(axis=1), square=True, cmap='coolwarm', annot=True)\n",
    "  pass"
   ]
  },
  {
   "cell_type": "markdown",
   "metadata": {
    "id": "jaxoxtJ8lK09"
   },
   "source": [
    "# Классические векторизации:\n",
    "\n",
    "### 1. BOW"
   ]
  },
  {
   "cell_type": "code",
   "execution_count": 30,
   "metadata": {
    "id": "xaF2D_lQLLvT"
   },
   "outputs": [],
   "source": [
    "bow_vec = CountVectorizer()\n",
    "# prepare training features\n",
    "bow_train_data = train_data.copy()\n",
    "train_bow_counts = bow_vec.fit_transform(bow_train_data['full_info'])\n",
    "is_format_arr = bow_train_data['is_format'].values\n",
    "bow_train_features = hstack((train_bow_counts, np.reshape(is_format_arr,(len(is_format_arr),1))), format='csr')\n",
    "# prepare testing features\n",
    "bow_val_data = val_data.copy()\n",
    "val_bow_counts = bow_vec.transform(bow_val_data['full_info'])\n",
    "is_format_arr = bow_val_data['is_format'].values\n",
    "bow_val_features = hstack((val_bow_counts, np.reshape(is_format_arr,(len(is_format_arr),1))), format='csr')  "
   ]
  },
  {
   "cell_type": "code",
   "execution_count": 31,
   "metadata": {
    "colab": {
     "base_uri": "https://localhost:8080/",
     "height": 797
    },
    "id": "AKYpbw11Ip95",
    "outputId": "38ed82ab-b588-4aa0-e24f-e12ebb5369f9"
   },
   "outputs": [
    {
     "name": "stderr",
     "output_type": "stream",
     "text": [
      "/usr/local/lib/python3.7/dist-packages/sklearn/linear_model/_logistic.py:818: ConvergenceWarning: lbfgs failed to converge (status=1):\n",
      "STOP: TOTAL NO. of ITERATIONS REACHED LIMIT.\n",
      "\n",
      "Increase the number of iterations (max_iter) or scale the data as shown in:\n",
      "    https://scikit-learn.org/stable/modules/preprocessing.html\n",
      "Please also refer to the documentation for alternative solver options:\n",
      "    https://scikit-learn.org/stable/modules/linear_model.html#logistic-regression\n",
      "  extra_warning_msg=_LOGISTIC_SOLVER_CONVERGENCE_MSG,\n"
     ]
    },
    {
     "name": "stdout",
     "output_type": "stream",
     "text": [
      "              precision    recall  f1-score   support\n",
      "\n",
      "           0     0.9015    0.8409    0.8702      3200\n",
      "           1     0.8286    0.8991    0.8624      3200\n",
      "           2     0.9784    0.9609    0.9696      3200\n",
      "\n",
      "    accuracy                         0.9003      9600\n",
      "   macro avg     0.9028    0.9003    0.9007      9600\n",
      "weighted avg     0.9028    0.9003    0.9007      9600\n",
      "\n"
     ]
    },
    {
     "data": {
      "image/png": "[encoded data removed]",
      "text/plain": [
       "<Figure size 864x576 with 2 Axes>"
      ]
     },
     "metadata": {},
     "output_type": "display_data"
    }
   ],
   "source": [
    "lr_classifier = lr(bow_train_features, train_target) \n",
    "show_metrics(val_target, lr_classifier.predict(bow_val_features))"
   ]
  },
  {
   "cell_type": "code",
   "execution_count": 32,
   "metadata": {
    "colab": {
     "base_uri": "https://localhost:8080/",
     "height": 693
    },
    "id": "N7C3W6nPUXqO",
    "outputId": "d9605e44-e169-4a41-bc04-2fdf80bf896a"
   },
   "outputs": [
    {
     "name": "stderr",
     "output_type": "stream",
     "text": [
      "/usr/local/lib/python3.7/dist-packages/sklearn/svm/_base.py:1208: ConvergenceWarning: Liblinear failed to converge, increase the number of iterations.\n",
      "  ConvergenceWarning,\n"
     ]
    },
    {
     "name": "stdout",
     "output_type": "stream",
     "text": [
      "              precision    recall  f1-score   support\n",
      "\n",
      "           0     0.8398    0.8206    0.8301      3200\n",
      "           1     0.7890    0.8322    0.8100      3200\n",
      "           2     0.9622    0.9316    0.9466      3200\n",
      "\n",
      "    accuracy                         0.8615      9600\n",
      "   macro avg     0.8637    0.8615    0.8623      9600\n",
      "weighted avg     0.8637    0.8615    0.8623      9600\n",
      "\n"
     ]
    },
    {
     "data": {
      "image/png": "[encoded data removed]",
      "text/plain": [
       "<Figure size 864x576 with 2 Axes>"
      ]
     },
     "metadata": {},
     "output_type": "display_data"
    }
   ],
   "source": [
    "svc_classifier = SVC(bow_train_features, train_target)\n",
    "show_metrics(val_target, svc_classifier.predict(bow_val_features))"
   ]
  },
  {
   "cell_type": "markdown",
   "metadata": {
    "id": "9IWXJZfHqSCw"
   },
   "source": [
    "### 2. tf-idf"
   ]
  },
  {
   "cell_type": "code",
   "execution_count": 33,
   "metadata": {
    "id": "SKDHMRY2NN1x"
   },
   "outputs": [],
   "source": [
    "tfidf_vec = TfidfVectorizer()\n",
    "# prepare training features\n",
    "tfidf_train_data = train_data.copy()\n",
    "tfidf_train_data_vec = tfidf_vec.fit_transform(tfidf_train_data['full_info'])\n",
    "is_format_arr = tfidf_train_data['is_format'].values\n",
    "tfidf_train_features = hstack((tfidf_train_data_vec, np.reshape(is_format_arr,(len(is_format_arr),1))), format='csr')\n",
    "# prepare testing features\n",
    "tfidf_val_data = val_data.copy()\n",
    "tfidf_val_data_vec = tfidf_vec.transform(tfidf_val_data['full_info'])\n",
    "is_format_arr = tfidf_val_data['is_format'].values\n",
    "tfidf_val_features = hstack((tfidf_val_data_vec, np.reshape(is_format_arr,(len(is_format_arr),1))), format='csr')"
   ]
  },
  {
   "cell_type": "code",
   "execution_count": 34,
   "metadata": {
    "colab": {
     "base_uri": "https://localhost:8080/",
     "height": 659
    },
    "id": "TLowj-KkSjEL",
    "outputId": "932af017-cbf8-422c-d004-791e174b287b"
   },
   "outputs": [
    {
     "name": "stdout",
     "output_type": "stream",
     "text": [
      "              precision    recall  f1-score   support\n",
      "\n",
      "           0     0.7789    0.8431    0.8097      3200\n",
      "           1     0.6937    0.7947    0.7408      3200\n",
      "           2     1.0000    0.7719    0.8713      3200\n",
      "\n",
      "    accuracy                         0.8032      9600\n",
      "   macro avg     0.8242    0.8032    0.8072      9600\n",
      "weighted avg     0.8242    0.8032    0.8072      9600\n",
      "\n"
     ]
    },
    {
     "data": {
      "image/png": "[encoded data removed]",
      "text/plain": [
       "<Figure size 864x576 with 2 Axes>"
      ]
     },
     "metadata": {},
     "output_type": "display_data"
    }
   ],
   "source": [
    "lr_classifier = lr(tfidf_train_features, train_target) \n",
    "show_metrics(val_target, lr_classifier.predict(tfidf_val_features))"
   ]
  },
  {
   "cell_type": "code",
   "execution_count": 35,
   "metadata": {
    "colab": {
     "base_uri": "https://localhost:8080/",
     "height": 659
    },
    "id": "z7RnfHdf_8HW",
    "outputId": "f261769c-bccd-4122-95f9-522d74a99cc6"
   },
   "outputs": [
    {
     "name": "stdout",
     "output_type": "stream",
     "text": [
      "              precision    recall  f1-score   support\n",
      "\n",
      "           0     0.8737    0.8709    0.8723      3200\n",
      "           1     0.8355    0.8634    0.8492      3200\n",
      "           2     0.9758    0.9463    0.9608      3200\n",
      "\n",
      "    accuracy                         0.8935      9600\n",
      "   macro avg     0.8950    0.8935    0.8941      9600\n",
      "weighted avg     0.8950    0.8935    0.8941      9600\n",
      "\n"
     ]
    },
    {
     "data": {
      "image/png": "[encoded data removed]",
      "text/plain": [
       "<Figure size 864x576 with 2 Axes>"
      ]
     },
     "metadata": {},
     "output_type": "display_data"
    }
   ],
   "source": [
    "svc_classifier = SVC(tfidf_train_features, train_target)\n",
    "show_metrics(val_target, svc_classifier.predict(tfidf_val_features))"
   ]
  },
  {
   "cell_type": "markdown",
   "metadata": {
    "id": "U0t31DVxySEC"
   },
   "source": [
    "### Результаты классификаций:"
   ]
  },
  {
   "cell_type": "markdown",
   "metadata": {
    "id": "6JXX6oRWUxnD"
   },
   "source": [
    "#### F1-score\n",
    "---\n",
    "\n",
    "|                   |  BOW  |  tf-idf |\n",
    "|-------------------|-------|---------|\n",
    "| Logistic Regression | 0.9007|  0.8072 |\n",
    "| SVC  | 0.8621     |  0.8941 |"
   ]
  },
  {
   "cell_type": "markdown",
   "metadata": {
    "id": "pAPDHXR5bA2S"
   },
   "source": [
    "Как видно, логистическая регрессия работает лучше с BOW, а SVC - наоборот с tf-idf. Очевидно, это происходит из-за различных значений эмбеддингов получаемых после векторизаций, разные методы работают лучше с теми или другим представлениями."
   ]
  },
  {
   "cell_type": "markdown",
   "metadata": {
    "id": "vMshm-OHElNf"
   },
   "source": [
    "# Предобученные эмбединги w2v,GloVe"
   ]
  },
  {
   "cell_type": "code",
   "execution_count": 36,
   "metadata": {
    "id": "bDplT9M2Ng2p"
   },
   "outputs": [],
   "source": [
    "def get_sentence_embeddings(text_data, model):\n",
    "    words = text_data.split()\n",
    "    embeddings = [model[word] for word in words if word in model.vocab]\n",
    "    return np.mean(embeddings, axis=0)"
   ]
  },
  {
   "cell_type": "code",
   "execution_count": 211,
   "metadata": {
    "id": "0Q0LWzCeEqP5"
   },
   "outputs": [],
   "source": [
    "import gensim.downloader "
   ]
  },
  {
   "cell_type": "code",
   "execution_count": 212,
   "metadata": {
    "colab": {
     "base_uri": "https://localhost:8080/"
    },
    "id": "aQa1YOylGvj0",
    "outputId": "75a91526-0f20-4ab7-f918-0b3dfeb59104"
   },
   "outputs": [
    {
     "name": "stdout",
     "output_type": "stream",
     "text": [
      "['fasttext-wiki-news-subwords-300', 'conceptnet-numberbatch-17-06-300', 'word2vec-ruscorpora-300', 'word2vec-google-news-300', 'glove-wiki-gigaword-50', 'glove-wiki-gigaword-100', 'glove-wiki-gigaword-200', 'glove-wiki-gigaword-300', 'glove-twitter-25', 'glove-twitter-50', 'glove-twitter-100', 'glove-twitter-200', '__testing_word2vec-matrix-synopsis']\n"
     ]
    }
   ],
   "source": [
    "print(list(gensim.downloader.info()['models'].keys()))"
   ]
  },
  {
   "cell_type": "markdown",
   "metadata": {
    "id": "1pYdOWM3G7S7"
   },
   "source": [
    "## Word2Vec\n"
   ]
  },
  {
   "cell_type": "code",
   "execution_count": 213,
   "metadata": {
    "colab": {
     "base_uri": "https://localhost:8080/"
    },
    "id": "hKHQfsp1HANi",
    "outputId": "8f98c925-ca85-45c9-daee-6b71cdc96d00"
   },
   "outputs": [
    {
     "name": "stdout",
     "output_type": "stream",
     "text": [
      "[==================================================] 100.0% 1662.8/1662.8MB downloaded\n"
     ]
    }
   ],
   "source": [
    "word2vec_google_news_300 = gensim.downloader .load('word2vec-google-news-300')"
   ]
  },
  {
   "cell_type": "code",
   "execution_count": 214,
   "metadata": {
    "colab": {
     "base_uri": "https://localhost:8080/",
     "height": 455
    },
    "id": "UCDjGnxTPTNk",
    "outputId": "1015c545-2af9-4aa1-9a36-cb92d756d825"
   },
   "outputs": [
    {
     "data": {
      "text/html": [
       "<div>\n",
       "<style scoped>\n",
       "    .dataframe tbody tr th:only-of-type {\n",
       "        vertical-align: middle;\n",
       "    }\n",
       "\n",
       "    .dataframe tbody tr th {\n",
       "        vertical-align: top;\n",
       "    }\n",
       "\n",
       "    .dataframe thead th {\n",
       "        text-align: right;\n",
       "    }\n",
       "</style>\n",
       "<table border=\"1\" class=\"dataframe\">\n",
       "  <thead>\n",
       "    <tr style=\"text-align: right;\">\n",
       "      <th></th>\n",
       "      <th>full_info</th>\n",
       "      <th>is_format</th>\n",
       "    </tr>\n",
       "    <tr>\n",
       "      <th>Id</th>\n",
       "      <th></th>\n",
       "      <th></th>\n",
       "    </tr>\n",
       "  </thead>\n",
       "  <tbody>\n",
       "    <tr>\n",
       "      <th>41464633</th>\n",
       "      <td>javascript jquery css slider slick js how to c...</td>\n",
       "      <td>0</td>\n",
       "    </tr>\n",
       "    <tr>\n",
       "      <th>57930235</th>\n",
       "      <td>java data conversion convert decimal to whole ...</td>\n",
       "      <td>1</td>\n",
       "    </tr>\n",
       "    <tr>\n",
       "      <th>38417334</th>\n",
       "      <td>javascript html url web applications store jav...</td>\n",
       "      <td>1</td>\n",
       "    </tr>\n",
       "    <tr>\n",
       "      <th>44373128</th>\n",
       "      <td>ruby on rails ruby will paginate rails combine...</td>\n",
       "      <td>1</td>\n",
       "    </tr>\n",
       "    <tr>\n",
       "      <th>48807242</th>\n",
       "      <td>amazon web services amazon s console aws s con...</td>\n",
       "      <td>1</td>\n",
       "    </tr>\n",
       "    <tr>\n",
       "      <th>...</th>\n",
       "      <td>...</td>\n",
       "      <td>...</td>\n",
       "    </tr>\n",
       "    <tr>\n",
       "      <th>42084112</th>\n",
       "      <td>android service android job scheduler not pers...</td>\n",
       "      <td>1</td>\n",
       "    </tr>\n",
       "    <tr>\n",
       "      <th>38627184</th>\n",
       "      <td>git pycharm pycharm to show current working br...</td>\n",
       "      <td>1</td>\n",
       "    </tr>\n",
       "    <tr>\n",
       "      <th>39856664</th>\n",
       "      <td>php mysql mysqli php database connection error...</td>\n",
       "      <td>1</td>\n",
       "    </tr>\n",
       "    <tr>\n",
       "      <th>36121459</th>\n",
       "      <td>c adding elements to an array through a functi...</td>\n",
       "      <td>1</td>\n",
       "    </tr>\n",
       "    <tr>\n",
       "      <th>45733260</th>\n",
       "      <td>sql server database sql server query with join...</td>\n",
       "      <td>0</td>\n",
       "    </tr>\n",
       "  </tbody>\n",
       "</table>\n",
       "<p>38400 rows × 2 columns</p>\n",
       "</div>"
      ],
      "text/plain": [
       "                                                  full_info  is_format\n",
       "Id                                                                    \n",
       "41464633  javascript jquery css slider slick js how to c...          0\n",
       "57930235  java data conversion convert decimal to whole ...          1\n",
       "38417334  javascript html url web applications store jav...          1\n",
       "44373128  ruby on rails ruby will paginate rails combine...          1\n",
       "48807242  amazon web services amazon s console aws s con...          1\n",
       "...                                                     ...        ...\n",
       "42084112  android service android job scheduler not pers...          1\n",
       "38627184  git pycharm pycharm to show current working br...          1\n",
       "39856664  php mysql mysqli php database connection error...          1\n",
       "36121459  c adding elements to an array through a functi...          1\n",
       "45733260  sql server database sql server query with join...          0\n",
       "\n",
       "[38400 rows x 2 columns]"
      ]
     },
     "execution_count": 214,
     "metadata": {},
     "output_type": "execute_result"
    }
   ],
   "source": [
    "train_data"
   ]
  },
  {
   "cell_type": "code",
   "execution_count": 215,
   "metadata": {
    "id": "5S7qW5qMOZos"
   },
   "outputs": [],
   "source": [
    "w2v_train = train_data.copy()\n",
    "w2v_train['full_info'] = w2v_train['full_info'].apply(lambda x : get_sentence_embeddings(x, word2vec_google_news_300))\n",
    "w2v_val = val_data.copy()\n",
    "w2v_val['full_info'] = w2v_val['full_info'].apply(lambda x : get_sentence_embeddings(x, word2vec_google_news_300))"
   ]
  },
  {
   "cell_type": "markdown",
   "metadata": {
    "id": "d0nOZpx2g-yN"
   },
   "source": [
    "Не получилось применить fit сразу к pandas.DataFrame из-за того, что в одной колонке 1D array, а в другой int. Трюк с hstack также не сработал, поэтому обучим модель только на эмбеддингах:"
   ]
  },
  {
   "cell_type": "code",
   "execution_count": 217,
   "metadata": {
    "colab": {
     "base_uri": "https://localhost:8080/",
     "height": 659
    },
    "id": "69mAik9ZbapS",
    "outputId": "074b624e-0a18-48dd-8acd-048eb476ce15"
   },
   "outputs": [
    {
     "name": "stdout",
     "output_type": "stream",
     "text": [
      "              precision    recall  f1-score   support\n",
      "\n",
      "           0     0.7392    0.7378    0.7385      3200\n",
      "           1     0.7096    0.5613    0.6268      3200\n",
      "           2     0.7858    0.9516    0.8608      3200\n",
      "\n",
      "    accuracy                         0.7502      9600\n",
      "   macro avg     0.7449    0.7502    0.7420      9600\n",
      "weighted avg     0.7449    0.7502    0.7420      9600\n",
      "\n"
     ]
    },
    {
     "data": {
      "image/png": "[encoded data removed]",
      "text/plain": [
       "<Figure size 864x576 with 2 Axes>"
      ]
     },
     "metadata": {},
     "output_type": "display_data"
    }
   ],
   "source": [
    "lr_classifier = lr(w2v_train['full_info'].to_list(), train_target) \n",
    "show_metrics(val_target, lr_classifier.predict(w2v_val['full_info'].to_list()))"
   ]
  },
  {
   "cell_type": "code",
   "execution_count": 218,
   "metadata": {
    "colab": {
     "base_uri": "https://localhost:8080/",
     "height": 659
    },
    "id": "tDan4D2EbgOe",
    "outputId": "868dd8b9-4b35-4f68-809e-e3d3fbff894f"
   },
   "outputs": [
    {
     "name": "stdout",
     "output_type": "stream",
     "text": [
      "              precision    recall  f1-score   support\n",
      "\n",
      "           0     0.7778    0.8009    0.7892      3200\n",
      "           1     0.7864    0.7063    0.7442      3200\n",
      "           2     0.9029    0.9681    0.9344      3200\n",
      "\n",
      "    accuracy                         0.8251      9600\n",
      "   macro avg     0.8224    0.8251    0.8226      9600\n",
      "weighted avg     0.8224    0.8251    0.8226      9600\n",
      "\n"
     ]
    },
    {
     "data": {
      "image/png": "[encoded data removed]",
      "text/plain": [
       "<Figure size 864x576 with 2 Axes>"
      ]
     },
     "metadata": {},
     "output_type": "display_data"
    }
   ],
   "source": [
    "svc_classifier = SVC(w2v_train['full_info'].to_list(), train_target)\n",
    "show_metrics(val_target, svc_classifier.predict(w2v_val['full_info'].to_list()))"
   ]
  },
  {
   "cell_type": "markdown",
   "metadata": {
    "id": "nW2yx4ukiLpl"
   },
   "source": [
    "## GLoVE"
   ]
  },
  {
   "cell_type": "code",
   "execution_count": 220,
   "metadata": {
    "colab": {
     "base_uri": "https://localhost:8080/"
    },
    "id": "ITU8A6jAiRjN",
    "outputId": "22c2238a-cd04-498c-a09e-684b592ca016"
   },
   "outputs": [
    {
     "name": "stdout",
     "output_type": "stream",
     "text": [
      "[==================================================] 100.0% 376.1/376.1MB downloaded\n"
     ]
    }
   ],
   "source": [
    "glove_wiki_gigaword_300 = gensim.downloader.load('glove-wiki-gigaword-300')"
   ]
  },
  {
   "cell_type": "code",
   "execution_count": 221,
   "metadata": {
    "id": "EYEBKhPOihly"
   },
   "outputs": [],
   "source": [
    "glove_train = train_data.copy()\n",
    "glove_train['full_info'] = glove_train['full_info'].apply(lambda x : get_sentence_embeddings(x, glove_wiki_gigaword_300))\n",
    "glove_val = val_data.copy()\n",
    "glove_val['full_info'] = glove_val['full_info'].apply(lambda x : get_sentence_embeddings(x, glove_wiki_gigaword_300))"
   ]
  },
  {
   "cell_type": "code",
   "execution_count": 226,
   "metadata": {
    "colab": {
     "base_uri": "https://localhost:8080/",
     "height": 797
    },
    "id": "043G6V27brps",
    "outputId": "c4324639-b586-4205-a05a-b51a79c021ee"
   },
   "outputs": [
    {
     "name": "stderr",
     "output_type": "stream",
     "text": [
      "/usr/local/lib/python3.7/dist-packages/sklearn/linear_model/_logistic.py:818: ConvergenceWarning: lbfgs failed to converge (status=1):\n",
      "STOP: TOTAL NO. of ITERATIONS REACHED LIMIT.\n",
      "\n",
      "Increase the number of iterations (max_iter) or scale the data as shown in:\n",
      "    https://scikit-learn.org/stable/modules/preprocessing.html\n",
      "Please also refer to the documentation for alternative solver options:\n",
      "    https://scikit-learn.org/stable/modules/linear_model.html#logistic-regression\n",
      "  extra_warning_msg=_LOGISTIC_SOLVER_CONVERGENCE_MSG,\n"
     ]
    },
    {
     "name": "stdout",
     "output_type": "stream",
     "text": [
      "              precision    recall  f1-score   support\n",
      "\n",
      "           0     0.7522    0.7494    0.7508      3200\n",
      "           1     0.7339    0.6428    0.6853      3200\n",
      "           2     0.8462    0.9544    0.8970      3200\n",
      "\n",
      "    accuracy                         0.7822      9600\n",
      "   macro avg     0.7774    0.7822    0.7777      9600\n",
      "weighted avg     0.7774    0.7822    0.7777      9600\n",
      "\n"
     ]
    },
    {
     "data": {
      "image/png": "[encoded data removed]",
      "text/plain": [
       "<Figure size 864x576 with 2 Axes>"
      ]
     },
     "metadata": {},
     "output_type": "display_data"
    }
   ],
   "source": [
    "lr_classifier = lr(glove_train['full_info'].to_list(), train_target) \n",
    "show_metrics(val_target, lr_classifier.predict(glove_val['full_info'].to_list()))"
   ]
  },
  {
   "cell_type": "code",
   "execution_count": 232,
   "metadata": {
    "colab": {
     "base_uri": "https://localhost:8080/",
     "height": 659
    },
    "id": "v1_3I3djkg1O",
    "outputId": "4e778a18-5c2c-4b2c-805d-229a2af40bcc"
   },
   "outputs": [
    {
     "name": "stdout",
     "output_type": "stream",
     "text": [
      "              precision    recall  f1-score   support\n",
      "\n",
      "           0     0.7752    0.7941    0.7845      3200\n",
      "           1     0.7825    0.7094    0.7441      3200\n",
      "           2     0.9032    0.9656    0.9334      3200\n",
      "\n",
      "    accuracy                         0.8230      9600\n",
      "   macro avg     0.8203    0.8230    0.8207      9600\n",
      "weighted avg     0.8203    0.8230    0.8207      9600\n",
      "\n"
     ]
    },
    {
     "data": {
      "image/png": "[encoded data removed]",
      "text/plain": [
       "<Figure size 864x576 with 2 Axes>"
      ]
     },
     "metadata": {},
     "output_type": "display_data"
    }
   ],
   "source": [
    "svc_classifier = SVC(glove_train['full_info'].to_list(), train_target) \n",
    "show_metrics(val_target, svc_classifier.predict(glove_val['full_info'].to_list()))"
   ]
  },
  {
   "cell_type": "markdown",
   "metadata": {
    "id": "qvbLYGSachh-"
   },
   "source": [
    "#### F1-score\n",
    "---\n",
    "\n",
    "|                   |  Word2Vec  |  GLoVE |\n",
    "|-------------------|-------|---------|\n",
    "| Logistic Regression | 0.7420|  0.7777 |\n",
    "| SVC               | 0.8226  | 0.8207  | "
   ]
  },
  {
   "cell_type": "markdown",
   "metadata": {
    "id": "pcFSKvlXgngB"
   },
   "source": [
    "Получили результаты хуже, чем с методами BOW и tf-idf, вероятно из-за того, что на stackoverflow используется специфическая лексика с множеством технических терминов, которые в результате векторизации с W2V и GLOVE просто выбрасываются."
   ]
  },
  {
   "cell_type": "markdown",
   "metadata": {
    "id": "UmYGj4dtkkdz"
   },
   "source": [
    "# Нейронная сеть\n"
   ]
  },
  {
   "cell_type": "code",
   "execution_count": 38,
   "metadata": {
    "colab": {
     "base_uri": "https://localhost:8080/"
    },
    "id": "N0yUs6pW1oMY",
    "outputId": "89b1cdea-e96f-45d2-8b54-86feb6d03bb1"
   },
   "outputs": [
    {
     "name": "stdout",
     "output_type": "stream",
     "text": [
      "Requirement already satisfied: torchtext==0.8.0 in /usr/local/lib/python3.7/dist-packages (0.8.0)\n",
      "Requirement already satisfied: numpy in /usr/local/lib/python3.7/dist-packages (from torchtext==0.8.0) (1.19.5)\n",
      "Requirement already satisfied: torch in /usr/local/lib/python3.7/dist-packages (from torchtext==0.8.0) (1.10.0+cu111)\n",
      "Requirement already satisfied: tqdm in /usr/local/lib/python3.7/dist-packages (from torchtext==0.8.0) (4.62.3)\n",
      "Requirement already satisfied: requests in /usr/local/lib/python3.7/dist-packages (from torchtext==0.8.0) (2.23.0)\n",
      "Requirement already satisfied: idna<3,>=2.5 in /usr/local/lib/python3.7/dist-packages (from requests->torchtext==0.8.0) (2.10)\n",
      "Requirement already satisfied: certifi>=2017.4.17 in /usr/local/lib/python3.7/dist-packages (from requests->torchtext==0.8.0) (2021.10.8)\n",
      "Requirement already satisfied: chardet<4,>=3.0.2 in /usr/local/lib/python3.7/dist-packages (from requests->torchtext==0.8.0) (3.0.4)\n",
      "Requirement already satisfied: urllib3!=1.25.0,!=1.25.1,<1.26,>=1.21.1 in /usr/local/lib/python3.7/dist-packages (from requests->torchtext==0.8.0) (1.24.3)\n",
      "Requirement already satisfied: typing-extensions in /usr/local/lib/python3.7/dist-packages (from torch->torchtext==0.8.0) (3.10.0.2)\n"
     ]
    }
   ],
   "source": [
    "!pip install -U torchtext==0.8.0"
   ]
  },
  {
   "cell_type": "code",
   "execution_count": 76,
   "metadata": {
    "id": "WIPaCvSt6mHR"
   },
   "outputs": [],
   "source": [
    " destination_folder = '/content/gdrive/My Drive/NLP_1_lab/'"
   ]
  },
  {
   "cell_type": "code",
   "execution_count": 77,
   "metadata": {
    "id": "grhwcDP5mo5W"
   },
   "outputs": [],
   "source": [
    "import torch\n",
    "import torch.nn as nn\n",
    "import torch.optim as optim\n",
    "from torch.utils.data import ConcatDataset\n",
    "from torch.nn.utils.rnn import pack_padded_sequence, pad_packed_sequence\n",
    "from torchtext.data import Field, TabularDataset, BucketIterator, Dataset \n",
    "from torchtext.vocab import build_vocab_from_iterator\n",
    "from sklearn.model_selection import KFold\n",
    "\n",
    "device = torch.device(\"cuda\" if torch.cuda.is_available() else \"cpu\")"
   ]
  },
  {
   "cell_type": "markdown",
   "metadata": {
    "id": "lyvGKFmhxJQ-"
   },
   "source": [
    "Загружаем данные:"
   ]
  },
  {
   "cell_type": "code",
   "execution_count": 78,
   "metadata": {
    "colab": {
     "base_uri": "https://localhost:8080/"
    },
    "id": "SWdVtvDtxGc1",
    "outputId": "b4c394cd-63e8-4c2e-c28f-3f896a2597dd"
   },
   "outputs": [
    {
     "name": "stderr",
     "output_type": "stream",
     "text": [
      "/usr/local/lib/python3.7/dist-packages/torchtext/data/field.py:150: UserWarning: Field class will be retired soon and moved to torchtext.legacy. Please see the most recent release notes for further information.\n",
      "  warnings.warn('{} class will be retired soon and moved to torchtext.legacy. Please see the most recent release notes for further information.'.format(self.__class__.__name__), UserWarning)\n",
      "/usr/local/lib/python3.7/dist-packages/torchtext/data/example.py:68: UserWarning: Example class will be retired soon and moved to torchtext.legacy. Please see the most recent release notes for further information.\n",
      "  warnings.warn('Example class will be retired soon and moved to torchtext.legacy. Please see the most recent release notes for further information.', UserWarning)\n",
      "/usr/local/lib/python3.7/dist-packages/torchtext/data/example.py:78: UserWarning: Example class will be retired soon and moved to torchtext.legacy. Please see the most recent release notes for further information.\n",
      "  warnings.warn('Example class will be retired soon and moved to torchtext.legacy. Please see the most recent release notes for further information.', UserWarning)\n"
     ]
    }
   ],
   "source": [
    "label_field = Field(sequential=False, use_vocab=False, batch_first=True, dtype=torch.float)\n",
    "text_field = Field(tokenize='spacy', lower=True, include_lengths=True, batch_first=True)\n",
    "fields = [('target', label_field), ('full_info', text_field)]\n",
    "\n",
    "train_tab_dataset, valid_tab_dataset = TabularDataset.splits(path= destination_folder, train='train_data.csv', validation='val_data.csv',\n",
    "                                           format='CSV', fields=fields, skip_header=True)"
   ]
  },
  {
   "cell_type": "code",
   "execution_count": 79,
   "metadata": {
    "colab": {
     "base_uri": "https://localhost:8080/"
    },
    "id": "748K-OmLFSeg",
    "outputId": "5db7e7e8-9e4f-4670-fa05-fa04b65ffb2c"
   },
   "outputs": [
    {
     "name": "stderr",
     "output_type": "stream",
     "text": [
      "/usr/local/lib/python3.7/dist-packages/torchtext/data/example.py:68: UserWarning: Example class will be retired soon and moved to torchtext.legacy. Please see the most recent release notes for further information.\n",
      "  warnings.warn('Example class will be retired soon and moved to torchtext.legacy. Please see the most recent release notes for further information.', UserWarning)\n",
      "/usr/local/lib/python3.7/dist-packages/torchtext/data/example.py:78: UserWarning: Example class will be retired soon and moved to torchtext.legacy. Please see the most recent release notes for further information.\n",
      "  warnings.warn('Example class will be retired soon and moved to torchtext.legacy. Please see the most recent release notes for further information.', UserWarning)\n"
     ]
    }
   ],
   "source": [
    "test_tab_dataset = TabularDataset.splits(path= destination_folder, test = 'test_data.csv', format='CSV', fields=[('full_info', text_field)], skip_header=True)"
   ]
  },
  {
   "cell_type": "markdown",
   "metadata": {
    "id": "ue-nvwyhxU0-"
   },
   "source": [
    "Создаем итераторы и строим словарь:"
   ]
  },
  {
   "cell_type": "code",
   "execution_count": 80,
   "metadata": {
    "colab": {
     "base_uri": "https://localhost:8080/"
    },
    "id": "7V_DJ6GrbFu3",
    "outputId": "98ea779a-be21-42d0-becd-b4c34a9e9e7f"
   },
   "outputs": [
    {
     "name": "stderr",
     "output_type": "stream",
     "text": [
      "/usr/local/lib/python3.7/dist-packages/torchtext/data/iterator.py:48: UserWarning: BucketIterator class will be retired soon and moved to torchtext.legacy. Please see the most recent release notes for further information.\n",
      "  warnings.warn('{} class will be retired soon and moved to torchtext.legacy. Please see the most recent release notes for further information.'.format(self.__class__.__name__), UserWarning)\n"
     ]
    }
   ],
   "source": [
    "train_iter = BucketIterator(train_tab_dataset, batch_size=32, sort_key=lambda x: len(x.full_info),\n",
    "                              device=device, sort=True, sort_within_batch=True)\n",
    "valid_iter = BucketIterator(valid_tab_dataset, batch_size=32, sort_key=lambda x: len(x.full_info),\n",
    "                            device=device, sort=True, sort_within_batch=True)\n",
    "test_iter = BucketIterator(test_tab_dataset[0], batch_size=32, device=device, sort=False, \n",
    "                           sort_within_batch=False, shuffle = False)"
   ]
  },
  {
   "cell_type": "code",
   "execution_count": 81,
   "metadata": {
    "colab": {
     "base_uri": "https://localhost:8080/"
    },
    "id": "7ecyX6eBxbDJ",
    "outputId": "acbf1829-55ac-4965-8401-bd443365a97d"
   },
   "outputs": [
    {
     "data": {
      "text/plain": [
       "47196"
      ]
     },
     "execution_count": 81,
     "metadata": {},
     "output_type": "execute_result"
    }
   ],
   "source": [
    "text_field.build_vocab(train_tab_dataset, min_freq=3)\n",
    "len(text_field.vocab)"
   ]
  },
  {
   "cell_type": "markdown",
   "metadata": {
    "id": "a5P2Y375xqzi"
   },
   "source": [
    "Создаем LSTM RNN "
   ]
  },
  {
   "cell_type": "code",
   "execution_count": 86,
   "metadata": {
    "id": "N7XVdSPSzuOT"
   },
   "outputs": [],
   "source": [
    "class LSTM(nn.Module):\n",
    "    def __init__(self, emb_size=300, hid_dim=500, dict_size=len(text_field.vocab),\n",
    "                 lstm_layers_num=3,  output_size=3):\n",
    "        super(LSTM, self).__init__()\n",
    "        self.dict_size = dict_size\n",
    "        self.hid_dim = hid_dim\n",
    "        self.output_size = output_size\n",
    "\n",
    "        self.embedding = nn.Embedding(dict_size, emb_size)\n",
    "        self.lstm = nn.LSTM(input_size=emb_size,\n",
    "                            hidden_size=self.hid_dim,\n",
    "                            num_layers=lstm_layers_num,\n",
    "                            batch_first=True,\n",
    "                            bidirectional=True,\n",
    "                            dropout=0.3)\n",
    "        self.drop = nn.Dropout(p=0.3)\n",
    "        self.fc = nn.Linear(self.hid_dim, self.output_size)\n",
    "\n",
    "    def forward(self, text, text_len):\n",
    "        batch_size = text.size(0)\n",
    "        text_emb = self.embedding(text)\n",
    "        text_emb = self.drop(text_emb)\n",
    "        packed_input = pack_padded_sequence(text_emb, text_len, batch_first=True, enforce_sorted=False)\n",
    "        packed_output, (ht, ct) = self.lstm(packed_input)\n",
    "        out = self.fc(ht[-1])\n",
    "\n",
    "        return out"
   ]
  },
  {
   "cell_type": "code",
   "execution_count": 87,
   "metadata": {
    "id": "HWK9rkjc4aT7"
   },
   "outputs": [],
   "source": [
    "# Save and Load Functions\n",
    "def save_checkpoint(save_path, model, optimizer, valid_loss):\n",
    "    if save_path == None:\n",
    "        return\n",
    "    \n",
    "    state_dict = {'model_state_dict': model.state_dict(),\n",
    "                  'optimizer_state_dict': optimizer.state_dict(),\n",
    "                  'valid_loss': valid_loss}\n",
    "    \n",
    "    torch.save(state_dict, save_path)\n",
    "    print(f'Model saved to ==> {save_path}')\n",
    "\n",
    "\n",
    "def load_checkpoint(load_path, model, optimizer):\n",
    "    if load_path==None:\n",
    "        return\n",
    "    \n",
    "    state_dict = torch.load(load_path, map_location=device)\n",
    "    print(f'Model loaded from <== {load_path}')\n",
    "    \n",
    "    model.load_state_dict(state_dict['model_state_dict'])\n",
    "    optimizer.load_state_dict(state_dict['optimizer_state_dict'])\n",
    "    \n",
    "    return state_dict['valid_loss']\n",
    "\n",
    "\n",
    "def save_metrics(save_path, train_loss_list, valid_loss_list, global_steps_list):\n",
    "    if save_path == None:\n",
    "        return\n",
    "    \n",
    "    state_dict = {'train_loss_list': train_loss_list,\n",
    "                  'valid_loss_list': valid_loss_list,\n",
    "                  'global_steps_list': global_steps_list}\n",
    "    \n",
    "    torch.save(state_dict, save_path)\n",
    "    print(f'Model saved to ==> {save_path}')\n",
    "\n",
    "\n",
    "def load_metrics(load_path):\n",
    "    if load_path==None:\n",
    "        return\n",
    "    \n",
    "    state_dict = torch.load(load_path, map_location=device)\n",
    "    print(f'Model loaded from <== {load_path}')\n",
    "    \n",
    "    return state_dict['train_loss_list'], state_dict['valid_loss_list'], state_dict['global_steps_list']\n"
   ]
  },
  {
   "cell_type": "code",
   "execution_count": 88,
   "metadata": {
    "id": "nalkHQx16fio"
   },
   "outputs": [],
   "source": [
    "def train(model,\n",
    "          optimizer,\n",
    "          criterion = nn.CrossEntropyLoss(),\n",
    "          train_loader = train_iter,\n",
    "          valid_loader = valid_iter,\n",
    "          num_epochs = 5,\n",
    "          eval_every = len(train_iter) // 2,\n",
    "          file_path = destination_folder,\n",
    "          best_valid_loss = float(\"Inf\")):\n",
    "    # initialize running values\n",
    "    running_loss = 0.0\n",
    "    valid_running_loss = 0.0\n",
    "    global_step = 0\n",
    "    train_loss_list = []\n",
    "    valid_loss_list = []\n",
    "    global_steps_list = []\n",
    "\n",
    "    # training loop\n",
    "    model.train()\n",
    "    for epoch in range(num_epochs):\n",
    "        for (labels, (text, text_len)), _ in train_loader:           \n",
    "            labels = labels.to(device)\n",
    "            text = text.to(device)\n",
    "            text_len = text_len.to(device)\n",
    "            output = model(text, text_len.cpu())\n",
    "            loss = criterion(output, labels.long())\n",
    "            optimizer.zero_grad()\n",
    "            loss.backward()\n",
    "            optimizer.step()\n",
    "\n",
    "            # update running values\n",
    "            running_loss += loss.item()\n",
    "            global_step += 1\n",
    "\n",
    "            # evaluation step\n",
    "            if global_step % eval_every == 0:\n",
    "                model.eval()\n",
    "                with torch.no_grad():                    \n",
    "                  # validation loop\n",
    "                  for (labels, (text, text_len)), _ in valid_loader:\n",
    "                      labels = labels.to(device)\n",
    "                      text = text.to(device)\n",
    "                      text_len = text_len.to(device)\n",
    "                      output = model(text, text_len.cpu())\n",
    "                      loss = criterion(output, labels.long())\n",
    "                      valid_running_loss += loss.item()\n",
    "\n",
    "                # evaluation\n",
    "                average_train_loss = running_loss / eval_every\n",
    "                average_valid_loss = valid_running_loss / len(valid_loader)\n",
    "                train_loss_list.append(average_train_loss)\n",
    "                valid_loss_list.append(average_valid_loss)\n",
    "                global_steps_list.append(global_step)\n",
    "\n",
    "                # resetting running values\n",
    "                running_loss = 0.0                \n",
    "                valid_running_loss = 0.0\n",
    "                model.train()\n",
    "\n",
    "                # print progress\n",
    "                print('Epoch [{}/{}], Step [{}/{}], Train Loss: {:.4f}, Valid Loss: {:.4f}'\n",
    "                      .format(epoch+1, num_epochs, global_step, num_epochs*len(train_loader),\n",
    "                              average_train_loss, average_valid_loss))\n",
    "                \n",
    "                # checkpoint\n",
    "                if best_valid_loss > average_valid_loss:\n",
    "                    best_valid_loss = average_valid_loss\n",
    "                    save_checkpoint(file_path + '/model.pt', model, optimizer, best_valid_loss)\n",
    "                    save_metrics(file_path + '/metrics.pt', train_loss_list, valid_loss_list, global_steps_list)\n",
    "    \n",
    "    save_metrics(file_path + '/metrics.pt', train_loss_list, valid_loss_list, global_steps_list)\n",
    "    print('Finished Training!')"
   ]
  },
  {
   "cell_type": "code",
   "execution_count": 89,
   "metadata": {
    "colab": {
     "base_uri": "https://localhost:8080/",
     "height": 675
    },
    "id": "VHBGjUVAxRRz",
    "outputId": "1762b501-8888-4d4a-98b5-a33836cbebeb"
   },
   "outputs": [
    {
     "name": "stderr",
     "output_type": "stream",
     "text": [
      "/usr/local/lib/python3.7/dist-packages/torchtext/data/batch.py:23: UserWarning: Batch class will be retired soon and moved to torchtext.legacy. Please see the most recent release notes for further information.\n",
      "  warnings.warn('{} class will be retired soon and moved to torchtext.legacy. Please see the most recent release notes for further information.'.format(self.__class__.__name__), UserWarning)\n"
     ]
    },
    {
     "name": "stdout",
     "output_type": "stream",
     "text": [
      "Epoch [1/10], Step [600/12000], Train Loss: 0.3953, Valid Loss: 0.3489\n",
      "Model saved to ==> /content/gdrive/My Drive/NLP_1_lab//model.pt\n",
      "Model saved to ==> /content/gdrive/My Drive/NLP_1_lab//metrics.pt\n",
      "Epoch [1/10], Step [1200/12000], Train Loss: 0.3126, Valid Loss: 0.3172\n",
      "Model saved to ==> /content/gdrive/My Drive/NLP_1_lab//model.pt\n",
      "Model saved to ==> /content/gdrive/My Drive/NLP_1_lab//metrics.pt\n",
      "Epoch [2/10], Step [1800/12000], Train Loss: 0.2279, Valid Loss: 0.2210\n",
      "Model saved to ==> /content/gdrive/My Drive/NLP_1_lab//model.pt\n",
      "Model saved to ==> /content/gdrive/My Drive/NLP_1_lab//metrics.pt\n",
      "Epoch [2/10], Step [2400/12000], Train Loss: 0.2069, Valid Loss: 0.2590\n",
      "Epoch [3/10], Step [3000/12000], Train Loss: 0.1815, Valid Loss: 0.1917\n",
      "Model saved to ==> /content/gdrive/My Drive/NLP_1_lab//model.pt\n",
      "Model saved to ==> /content/gdrive/My Drive/NLP_1_lab//metrics.pt\n",
      "Epoch [3/10], Step [3600/12000], Train Loss: 0.1623, Valid Loss: 0.2206\n",
      "Epoch [4/10], Step [4200/12000], Train Loss: 0.1512, Valid Loss: 0.2091\n",
      "Epoch [4/10], Step [4800/12000], Train Loss: 0.1334, Valid Loss: 0.2277\n",
      "Epoch [5/10], Step [5400/12000], Train Loss: 0.1319, Valid Loss: 0.2184\n"
     ]
    },
    {
     "ename": "KeyboardInterrupt",
     "evalue": "ignored",
     "output_type": "error",
     "traceback": [
      "\u001b[0;31m---------------------------------------------------------------------------\u001b[0m",
      "\u001b[0;31mKeyboardInterrupt\u001b[0m                         Traceback (most recent call last)",
      "\u001b[0;32m<ipython-input-89-1cbf38e87ba8>\u001b[0m in \u001b[0;36m<module>\u001b[0;34m()\u001b[0m\n\u001b[1;32m      1\u001b[0m \u001b[0mmodel\u001b[0m \u001b[0;34m=\u001b[0m \u001b[0mLSTM\u001b[0m\u001b[0;34m(\u001b[0m\u001b[0;34m)\u001b[0m\u001b[0;34m.\u001b[0m\u001b[0mto\u001b[0m\u001b[0;34m(\u001b[0m\u001b[0mdevice\u001b[0m\u001b[0;34m)\u001b[0m\u001b[0;34m\u001b[0m\u001b[0;34m\u001b[0m\u001b[0m\n\u001b[1;32m      2\u001b[0m \u001b[0moptimizer\u001b[0m \u001b[0;34m=\u001b[0m \u001b[0moptim\u001b[0m\u001b[0;34m.\u001b[0m\u001b[0mAdam\u001b[0m\u001b[0;34m(\u001b[0m\u001b[0mmodel\u001b[0m\u001b[0;34m.\u001b[0m\u001b[0mparameters\u001b[0m\u001b[0;34m(\u001b[0m\u001b[0;34m)\u001b[0m\u001b[0;34m,\u001b[0m \u001b[0mlr\u001b[0m\u001b[0;34m=\u001b[0m\u001b[0;36m0.001\u001b[0m\u001b[0;34m)\u001b[0m\u001b[0;34m\u001b[0m\u001b[0;34m\u001b[0m\u001b[0m\n\u001b[0;32m----> 3\u001b[0;31m \u001b[0mtrain\u001b[0m\u001b[0;34m(\u001b[0m\u001b[0mmodel\u001b[0m\u001b[0;34m=\u001b[0m\u001b[0mmodel\u001b[0m\u001b[0;34m,\u001b[0m \u001b[0moptimizer\u001b[0m\u001b[0;34m=\u001b[0m\u001b[0moptimizer\u001b[0m\u001b[0;34m,\u001b[0m \u001b[0mnum_epochs\u001b[0m\u001b[0;34m=\u001b[0m\u001b[0;36m10\u001b[0m\u001b[0;34m)\u001b[0m\u001b[0;34m\u001b[0m\u001b[0;34m\u001b[0m\u001b[0m\n\u001b[0m",
      "\u001b[0;32m<ipython-input-88-8ce995b96f2e>\u001b[0m in \u001b[0;36mtrain\u001b[0;34m(model, optimizer, criterion, train_loader, valid_loader, num_epochs, eval_every, file_path, best_valid_loss)\u001b[0m\n\u001b[1;32m     26\u001b[0m             \u001b[0mloss\u001b[0m \u001b[0;34m=\u001b[0m \u001b[0mcriterion\u001b[0m\u001b[0;34m(\u001b[0m\u001b[0moutput\u001b[0m\u001b[0;34m,\u001b[0m \u001b[0mlabels\u001b[0m\u001b[0;34m.\u001b[0m\u001b[0mlong\u001b[0m\u001b[0;34m(\u001b[0m\u001b[0;34m)\u001b[0m\u001b[0;34m)\u001b[0m\u001b[0;34m\u001b[0m\u001b[0;34m\u001b[0m\u001b[0m\n\u001b[1;32m     27\u001b[0m             \u001b[0moptimizer\u001b[0m\u001b[0;34m.\u001b[0m\u001b[0mzero_grad\u001b[0m\u001b[0;34m(\u001b[0m\u001b[0;34m)\u001b[0m\u001b[0;34m\u001b[0m\u001b[0;34m\u001b[0m\u001b[0m\n\u001b[0;32m---> 28\u001b[0;31m             \u001b[0mloss\u001b[0m\u001b[0;34m.\u001b[0m\u001b[0mbackward\u001b[0m\u001b[0;34m(\u001b[0m\u001b[0;34m)\u001b[0m\u001b[0;34m\u001b[0m\u001b[0;34m\u001b[0m\u001b[0m\n\u001b[0m\u001b[1;32m     29\u001b[0m             \u001b[0moptimizer\u001b[0m\u001b[0;34m.\u001b[0m\u001b[0mstep\u001b[0m\u001b[0;34m(\u001b[0m\u001b[0;34m)\u001b[0m\u001b[0;34m\u001b[0m\u001b[0;34m\u001b[0m\u001b[0m\n\u001b[1;32m     30\u001b[0m \u001b[0;34m\u001b[0m\u001b[0m\n",
      "\u001b[0;32m/usr/local/lib/python3.7/dist-packages/torch/_tensor.py\u001b[0m in \u001b[0;36mbackward\u001b[0;34m(self, gradient, retain_graph, create_graph, inputs)\u001b[0m\n\u001b[1;32m    305\u001b[0m                 \u001b[0mcreate_graph\u001b[0m\u001b[0;34m=\u001b[0m\u001b[0mcreate_graph\u001b[0m\u001b[0;34m,\u001b[0m\u001b[0;34m\u001b[0m\u001b[0;34m\u001b[0m\u001b[0m\n\u001b[1;32m    306\u001b[0m                 inputs=inputs)\n\u001b[0;32m--> 307\u001b[0;31m         \u001b[0mtorch\u001b[0m\u001b[0;34m.\u001b[0m\u001b[0mautograd\u001b[0m\u001b[0;34m.\u001b[0m\u001b[0mbackward\u001b[0m\u001b[0;34m(\u001b[0m\u001b[0mself\u001b[0m\u001b[0;34m,\u001b[0m \u001b[0mgradient\u001b[0m\u001b[0;34m,\u001b[0m \u001b[0mretain_graph\u001b[0m\u001b[0;34m,\u001b[0m \u001b[0mcreate_graph\u001b[0m\u001b[0;34m,\u001b[0m \u001b[0minputs\u001b[0m\u001b[0;34m=\u001b[0m\u001b[0minputs\u001b[0m\u001b[0;34m)\u001b[0m\u001b[0;34m\u001b[0m\u001b[0;34m\u001b[0m\u001b[0m\n\u001b[0m\u001b[1;32m    308\u001b[0m \u001b[0;34m\u001b[0m\u001b[0m\n\u001b[1;32m    309\u001b[0m     \u001b[0;32mdef\u001b[0m \u001b[0mregister_hook\u001b[0m\u001b[0;34m(\u001b[0m\u001b[0mself\u001b[0m\u001b[0;34m,\u001b[0m \u001b[0mhook\u001b[0m\u001b[0;34m)\u001b[0m\u001b[0;34m:\u001b[0m\u001b[0;34m\u001b[0m\u001b[0;34m\u001b[0m\u001b[0m\n",
      "\u001b[0;32m/usr/local/lib/python3.7/dist-packages/torch/autograd/__init__.py\u001b[0m in \u001b[0;36mbackward\u001b[0;34m(tensors, grad_tensors, retain_graph, create_graph, grad_variables, inputs)\u001b[0m\n\u001b[1;32m    154\u001b[0m     Variable._execution_engine.run_backward(\n\u001b[1;32m    155\u001b[0m         \u001b[0mtensors\u001b[0m\u001b[0;34m,\u001b[0m \u001b[0mgrad_tensors_\u001b[0m\u001b[0;34m,\u001b[0m \u001b[0mretain_graph\u001b[0m\u001b[0;34m,\u001b[0m \u001b[0mcreate_graph\u001b[0m\u001b[0;34m,\u001b[0m \u001b[0minputs\u001b[0m\u001b[0;34m,\u001b[0m\u001b[0;34m\u001b[0m\u001b[0;34m\u001b[0m\u001b[0m\n\u001b[0;32m--> 156\u001b[0;31m         allow_unreachable=True, accumulate_grad=True)  # allow_unreachable flag\n\u001b[0m\u001b[1;32m    157\u001b[0m \u001b[0;34m\u001b[0m\u001b[0m\n\u001b[1;32m    158\u001b[0m \u001b[0;34m\u001b[0m\u001b[0m\n",
      "\u001b[0;31mKeyboardInterrupt\u001b[0m: "
     ]
    }
   ],
   "source": [
    "model = LSTM().to(device)\n",
    "optimizer = optim.Adam(model.parameters(), lr=0.001)    \n",
    "train(model=model, optimizer=optimizer, num_epochs=10)"
   ]
  },
  {
   "cell_type": "code",
   "execution_count": 90,
   "metadata": {
    "colab": {
     "base_uri": "https://localhost:8080/",
     "height": 519
    },
    "id": "Du3chu2i_TX6",
    "outputId": "dc2741f1-7bb7-443c-a9b3-019c5f486ae6"
   },
   "outputs": [
    {
     "name": "stdout",
     "output_type": "stream",
     "text": [
      "Model loaded from <== /content/gdrive/My Drive/NLP_1_lab/metrics.pt\n"
     ]
    },
    {
     "data": {
      "image/png": "[encoded data removed]",
      "text/plain": [
       "<Figure size 864x576 with 1 Axes>"
      ]
     },
     "metadata": {},
     "output_type": "display_data"
    }
   ],
   "source": [
    "train_loss_list, valid_loss_list, global_steps_list = load_metrics(destination_folder + 'metrics.pt')\n",
    "sns.lineplot(x=global_steps_list, y=train_loss_list, label='Train')\n",
    "ax = sns.lineplot(x=global_steps_list, y=valid_loss_list, label='Valid')\n",
    "ax.set(xlabel='Global Steps', ylabel='Loss')\n",
    "plt.legend()\n",
    "plt.show()"
   ]
  },
  {
   "cell_type": "code",
   "execution_count": 91,
   "metadata": {
    "id": "7KeeIDZBOrx3"
   },
   "outputs": [],
   "source": [
    "def predict(model, test_loader):\n",
    "    y_pred = []\n",
    "    y_true = []\n",
    "    model.eval()\n",
    "    with torch.no_grad():\n",
    "        for (text, text_len), _ in test_loader:           \n",
    "            text = text.to(device)\n",
    "            text_len = text_len.to(device)\n",
    "            output = model(text, text_len.cpu())\n",
    "            y_pred.extend(output.cpu().argmax(1).detach().numpy())\n",
    "\n",
    "    return y_pred\n",
    "  \n",
    "def evaluate(model, test_loader):\n",
    "    y_pred = []\n",
    "    y_true = []\n",
    "    model.eval()\n",
    "    with torch.no_grad():\n",
    "        for (labels, (text, text_len)), _ in test_loader:           \n",
    "            labels = labels.to(device)\n",
    "            text = text.to(device)\n",
    "            text_len = text_len.to(device)\n",
    "            output = model(text, text_len.cpu()) # text_len.long()  ?\n",
    "            y_true.extend(labels.cpu().detach().tolist())\n",
    "            y_pred.extend(output.cpu().argmax(1).detach().numpy())\n",
    "\n",
    "    return y_true, y_pred\n"
   ]
  },
  {
   "cell_type": "code",
   "execution_count": 92,
   "metadata": {
    "colab": {
     "base_uri": "https://localhost:8080/"
    },
    "id": "2iVxPew5T5Mj",
    "outputId": "34b36948-9063-4041-f307-a029c7a0e5c5"
   },
   "outputs": [
    {
     "name": "stdout",
     "output_type": "stream",
     "text": [
      "Model loaded from <== /content/gdrive/My Drive/NLP_1_lab/model.pt\n"
     ]
    },
    {
     "name": "stderr",
     "output_type": "stream",
     "text": [
      "/usr/local/lib/python3.7/dist-packages/torchtext/data/batch.py:23: UserWarning: Batch class will be retired soon and moved to torchtext.legacy. Please see the most recent release notes for further information.\n",
      "  warnings.warn('{} class will be retired soon and moved to torchtext.legacy. Please see the most recent release notes for further information.'.format(self.__class__.__name__), UserWarning)\n"
     ]
    }
   ],
   "source": [
    "best_model = LSTM().to(device)\n",
    "load_checkpoint(destination_folder + 'model.pt', best_model, optimizer)\n",
    "y_true, y_pred = evaluate(best_model, valid_iter)"
   ]
  },
  {
   "cell_type": "code",
   "execution_count": 93,
   "metadata": {
    "colab": {
     "base_uri": "https://localhost:8080/",
     "height": 659
    },
    "id": "g9eU0bToRpOS",
    "outputId": "4b7405cb-bdf4-45ce-ae37-a213cbb35844"
   },
   "outputs": [
    {
     "name": "stdout",
     "output_type": "stream",
     "text": [
      "              precision    recall  f1-score   support\n",
      "\n",
      "         0.0     0.9071    0.8722    0.8893      3200\n",
      "         1.0     0.8756    0.9106    0.8928      3200\n",
      "         2.0     0.9991    0.9975    0.9983      3200\n",
      "\n",
      "    accuracy                         0.9268      9600\n",
      "   macro avg     0.9272    0.9268    0.9268      9600\n",
      "weighted avg     0.9272    0.9268    0.9268      9600\n",
      "\n"
     ]
    },
    {
     "data": {
      "image/png": "[encoded data removed]",
      "text/plain": [
       "<Figure size 864x576 with 2 Axes>"
      ]
     },
     "metadata": {},
     "output_type": "display_data"
    }
   ],
   "source": [
    "show_metrics(y_true, y_pred)"
   ]
  },
  {
   "cell_type": "code",
   "execution_count": 95,
   "metadata": {
    "colab": {
     "base_uri": "https://localhost:8080/"
    },
    "id": "F1s6j1SHqlCx",
    "outputId": "d3d17244-cc5e-44c0-c331-ebd0ebfa8294"
   },
   "outputs": [
    {
     "name": "stderr",
     "output_type": "stream",
     "text": [
      "/usr/local/lib/python3.7/dist-packages/torchtext/data/batch.py:23: UserWarning: Batch class will be retired soon and moved to torchtext.legacy. Please see the most recent release notes for further information.\n",
      "  warnings.warn('{} class will be retired soon and moved to torchtext.legacy. Please see the most recent release notes for further information.'.format(self.__class__.__name__), UserWarning)\n"
     ]
    }
   ],
   "source": [
    "y = predict(best_model, test_iter)"
   ]
  },
  {
   "cell_type": "code",
   "execution_count": 104,
   "metadata": {
    "colab": {
     "base_uri": "https://localhost:8080/",
     "height": 424
    },
    "id": "N30PEPUoxHSw",
    "outputId": "a17920de-53a3-43fc-af7a-0ac5dd5465b8"
   },
   "outputs": [
    {
     "data": {
      "text/html": [
       "<div>\n",
       "<style scoped>\n",
       "    .dataframe tbody tr th:only-of-type {\n",
       "        vertical-align: middle;\n",
       "    }\n",
       "\n",
       "    .dataframe tbody tr th {\n",
       "        vertical-align: top;\n",
       "    }\n",
       "\n",
       "    .dataframe thead th {\n",
       "        text-align: right;\n",
       "    }\n",
       "</style>\n",
       "<table border=\"1\" class=\"dataframe\">\n",
       "  <thead>\n",
       "    <tr style=\"text-align: right;\">\n",
       "      <th></th>\n",
       "      <th>Id</th>\n",
       "      <th>Predicted</th>\n",
       "    </tr>\n",
       "  </thead>\n",
       "  <tbody>\n",
       "    <tr>\n",
       "      <th>0</th>\n",
       "      <td>46785369</td>\n",
       "      <td>2</td>\n",
       "    </tr>\n",
       "    <tr>\n",
       "      <th>1</th>\n",
       "      <td>38908667</td>\n",
       "      <td>0</td>\n",
       "    </tr>\n",
       "    <tr>\n",
       "      <th>2</th>\n",
       "      <td>44703012</td>\n",
       "      <td>0</td>\n",
       "    </tr>\n",
       "    <tr>\n",
       "      <th>3</th>\n",
       "      <td>34910435</td>\n",
       "      <td>0</td>\n",
       "    </tr>\n",
       "    <tr>\n",
       "      <th>4</th>\n",
       "      <td>51632121</td>\n",
       "      <td>2</td>\n",
       "    </tr>\n",
       "    <tr>\n",
       "      <th>...</th>\n",
       "      <td>...</td>\n",
       "      <td>...</td>\n",
       "    </tr>\n",
       "    <tr>\n",
       "      <th>11995</th>\n",
       "      <td>37771316</td>\n",
       "      <td>0</td>\n",
       "    </tr>\n",
       "    <tr>\n",
       "      <th>11996</th>\n",
       "      <td>59044957</td>\n",
       "      <td>1</td>\n",
       "    </tr>\n",
       "    <tr>\n",
       "      <th>11997</th>\n",
       "      <td>57190511</td>\n",
       "      <td>0</td>\n",
       "    </tr>\n",
       "    <tr>\n",
       "      <th>11998</th>\n",
       "      <td>35228310</td>\n",
       "      <td>2</td>\n",
       "    </tr>\n",
       "    <tr>\n",
       "      <th>11999</th>\n",
       "      <td>46390083</td>\n",
       "      <td>1</td>\n",
       "    </tr>\n",
       "  </tbody>\n",
       "</table>\n",
       "<p>12000 rows × 2 columns</p>\n",
       "</div>"
      ],
      "text/plain": [
       "             Id  Predicted\n",
       "0      46785369          2\n",
       "1      38908667          0\n",
       "2      44703012          0\n",
       "3      34910435          0\n",
       "4      51632121          2\n",
       "...         ...        ...\n",
       "11995  37771316          0\n",
       "11996  59044957          1\n",
       "11997  57190511          0\n",
       "11998  35228310          2\n",
       "11999  46390083          1\n",
       "\n",
       "[12000 rows x 2 columns]"
      ]
     },
     "execution_count": 104,
     "metadata": {},
     "output_type": "execute_result"
    }
   ],
   "source": [
    "submission = pd.DataFrame(data={'Id':raw_test_data.index.tolist(), 'Predicted': y})\n",
    "submission"
   ]
  },
  {
   "cell_type": "code",
   "execution_count": 102,
   "metadata": {
    "id": "xZDKPcuYxSTB"
   },
   "outputs": [],
   "source": [
    "submission.to_csv(\"submission.csv\", index=False)"
   ]
  },
  {
   "cell_type": "markdown",
   "metadata": {
    "id": "uF1F6-pbNLpP"
   },
   "source": [
    "# Заключение:\n",
    "Для участия в кэгл-соревновании использовался результат, полученный c нейронной сетью, поскольку так удалось достичь наибольшого F1-score. Но на самом деле, если затюнить параметры в классических методах ML и подобрать нужный препроцессинг, можно было бы получить аналогичный результат и там, просто это заняло бы больше \n",
    "времени. Вероятно, это значит что и из подхода с нейронной сеткой, тоже можно было бы выжать больше, подобрав нужную архитектуру и тоже затюнив параметры.\n"
   ]
  },
  {
   "cell_type": "code",
   "execution_count": null,
   "metadata": {
    "id": "TKEwXoYL1wlv"
   },
   "outputs": [],
   "source": []
  }
 ],
 "metadata": {
  "accelerator": "GPU",
  "colab": {
   "collapsed_sections": [],
   "name": "Vikhrev-UNN-2021-lab-1.ipynb",
   "provenance": []
  },
  "kernelspec": {
   "display_name": "Python 3 (ipykernel)",
   "language": "python",
   "name": "python3"
  },
  "language_info": {
   "codemirror_mode": {
    "name": "ipython",
    "version": 3
   },
   "file_extension": ".py",
   "mimetype": "text/x-python",
   "name": "python",
   "nbconvert_exporter": "python",
   "pygments_lexer": "ipython3",
   "version": "3.8.10"
  }
 },
 "nbformat": 4,
 "nbformat_minor": 1
}
